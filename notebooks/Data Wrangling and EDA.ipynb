{
 "cells": [
  {
   "cell_type": "markdown",
   "metadata": {},
   "source": [
    "# Data Wrangling"
   ]
  },
  {
   "cell_type": "code",
   "execution_count": 1,
   "metadata": {
    "ExecuteTime": {
     "end_time": "2020-12-21T07:01:40.321887Z",
     "start_time": "2020-12-21T07:01:39.989116Z"
    }
   },
   "outputs": [],
   "source": [
    "import pandas as pd\n",
    "import requests\n",
    "import json\n",
    "import numpy as np\n",
    "from tqdm.auto import tqdm\n",
    "import datetime\n",
    "\n",
    "# Import CANVAS_API_KEY from the .env file\n",
    "from dotenv import load_dotenv\n",
    "load_dotenv(verbose=True)\n",
    "\n",
    "import os\n",
    "API_KEY = os.getenv(\"CANVAS_API_KEY\")\n",
    "BASE_URL = os.getenv(\"CANVAS_BASE_URL\")"
   ]
  },
  {
   "cell_type": "code",
   "execution_count": 2,
   "metadata": {
    "ExecuteTime": {
     "end_time": "2020-12-21T07:01:40.337972Z",
     "start_time": "2020-12-21T07:01:40.324379Z"
    }
   },
   "outputs": [],
   "source": [
    "def my_request(API_URL):\n",
    "    headers = {'Authorization': 'Bearer '+ API_KEY}\n",
    "    r = requests.get(BASE_URL+API_URL, headers=headers)\n",
    "    return r.json()\n",
    "\n",
    "def get_required_submissions_ids(course_id) : \n",
    "    '''extracts the required course ids for the course returns two dataframes:\n",
    "    - required_assignments\n",
    "    - capstones\n",
    "    each with two columns 'id' and 'name' \n",
    "    example usage: \n",
    "        required_assignments, capstones = get_required_submissions_ids(course_id) '''\n",
    "    \n",
    "    r = my_request('/api/v1/courses/{}/assignments?per_page=200'.format(course_id))\n",
    "    all_assignments = pd.DataFrame(r)\n",
    "    required_assignments = all_assignments[all_assignments.name.str.contains('Assignment')]\n",
    "    required_assignments = required_assignments[~required_assignments.name.str.contains('Capstone')]\n",
    "    capstones = all_assignments[all_assignments.name.str.contains('Capstone')]\n",
    "    return required_assignments[['id','name']], capstones[['id','name']]\n",
    "\n",
    "# need to get only active students!! course 1682 failing at student 72758\n",
    "def get_list_of_students(course_id) : \n",
    "    '''get the list of students in a panda series.\n",
    "    Excample usage:\n",
    "    student_ids = get_list_of_students(course_id)'''\n",
    "    \n",
    "    r = my_request('/api/v1/courses/{}/enrollments?type[]=StudentEnrollment&state[]=active&per_page=200'.format(course_id))\n",
    "    \n",
    "    return pd.DataFrame.from_dict(r)['user_id']\n",
    "\n",
    "\n",
    "def check_student_passing_criteria(student_id, course_id, required_assignments, capstones) :\n",
    "    '''checks if the student passed or failed the course. returns boolean'''\n",
    "    r = my_request('/api/v1/courses/{}/students/submissions?student_ids[]={}&per_page=200'.format(course_id,student_id))\n",
    "    student_submissions = pd.DataFrame.from_dict(r)[['grade','assignment_id','late','missing','seconds_late']] #could reduce to 'assignment_id' and 'grade'\n",
    "    student_submissions['grade'].replace(to_replace='complete',value=1, inplace=True)\n",
    "    student_submissions['grade'].replace(to_replace='incomplete',value=0, inplace=True)\n",
    "    student_submissions['grade'].fillna(0,inplace=True)\n",
    "    student_submissions['grade'] = student_submissions['grade'].astype(int) #convert boolean to int\n",
    "    #student_submissions['late'] = student_submissions['late'].astype(int) # not needed as of right now. could check if too late...\n",
    "    #student_submissions['missing'] = student_submissions['missing'].astype(int)\n",
    "    \n",
    "    capstone_check = pd.merge(student_submissions, capstones, left_on='assignment_id', right_on='id', how='inner')['grade'].sum()\n",
    "    if capstone_check >= 1 : \n",
    "        # meets the capstone passing criteria\n",
    "        # checking the next criteria\n",
    "        assignment_check = pd.merge(student_submissions, required_assignments, left_on='assignment_id', right_on='id', how='inner')['grade'].sum()\n",
    "        if assignment_check >= 7 :\n",
    "            # meets both criterias --> pass\n",
    "            return True\n",
    "    else :\n",
    "        # didn't meet at least one criteria\n",
    "        return False\n",
    "\n",
    "# calculate pass fail for entire course\n",
    "def check_passing_criteria_from_course_id(course_id, verbose=0) :\n",
    "    '''gets student pass fail for entire course'''\n",
    "    outcomes = pd.DataFrame(columns = ['student_id', 'course_id', 'outcome'])\n",
    "    # get list of required assignments\n",
    "    print('Getting list of required assignments...', end=\" \")\n",
    "    required_assignments, capstones = get_required_submissions_ids(course_id)\n",
    "    print('DONE')\n",
    "    \n",
    "    # get list of students\n",
    "    print('Getting list of students...', end=\" \")\n",
    "    student_ids = get_list_of_students(course_id)\n",
    "    print('DONE')\n",
    "    \n",
    "    print('Checking every single student...')\n",
    "    for s_id in student_ids :\n",
    "        outcome = check_student_passing_criteria(s_id, course_id, required_assignments, capstones)\n",
    "        outcomes = outcomes.append({'student_id' : s_id, 'course_id':course_id, 'outcome':outcome},ignore_index=True)\n",
    "        if verbose == 1 :\n",
    "            print(s_id, end=\" \")\n",
    "            print(outcome)\n",
    "        else :\n",
    "            print(\"|\", end=\"\")\n",
    "    print(' DONE\\n')\n",
    "        \n",
    "    return outcomes\n",
    "\n",
    "# get cutoff date for course\n",
    "def get_cutoff_date(course_id, cutoff_assignment = 'Assignment 4.1'):\n",
    "                                     \n",
    "    r = my_request('/api/v1/courses/{}/assignments?per_page=200'.format(course_id))\n",
    "    df = pd.json_normalize(r)\n",
    "    date_df = df[df['name'].str.startswith(cutoff_assignment)]\n",
    "    cutoff_date = date_df.iloc[0]['discussion_topic.posted_at']\n",
    "    #print(cutoff_date)\n",
    "    pd.to_datetime(cutoff_date)\n",
    "    cutoff_date = pd.to_datetime(cutoff_date)+datetime.timedelta(days=8)\n",
    "    return cutoff_date"
   ]
  },
  {
   "cell_type": "code",
   "execution_count": 3,
   "metadata": {
    "ExecuteTime": {
     "end_time": "2020-12-21T07:01:41.411296Z",
     "start_time": "2020-12-21T07:01:40.340319Z"
    }
   },
   "outputs": [],
   "source": [
    "# get relevant course_ids\n",
    "r = my_request('/api/v1/courses?enrollment_type=teacher')\n",
    "\n",
    "response= pd.DataFrame.from_dict(r)\n",
    "course_ids = response[response['name'].str.contains('AI')]['id']"
   ]
  },
  {
   "cell_type": "markdown",
   "metadata": {},
   "source": [
    "## Create Outcome Variable: check pass fail for the entire course"
   ]
  },
  {
   "cell_type": "code",
   "execution_count": null,
   "metadata": {
    "ExecuteTime": {
     "start_time": "2020-12-21T07:01:41.118Z"
    }
   },
   "outputs": [
    {
     "name": "stdout",
     "output_type": "stream",
     "text": [
      "Getting list of required assignments... DONE\n",
      "Getting list of students... DONE\n",
      "Checking every single student...\n",
      "|||||||||||||||||||||"
     ]
    }
   ],
   "source": [
    "outcomes = pd.DataFrame(columns = ['student_id', 'course_id', 'outcome'])\n",
    "\n",
    "for c in course_ids :\n",
    "    outcomes = outcomes.append(check_passing_criteria_from_course_id(c, verbose=0))\n",
    "\n",
    "outcomes.to_csv('../data/outcomes.csv')"
   ]
  },
  {
   "cell_type": "code",
   "execution_count": null,
   "metadata": {
    "ExecuteTime": {
     "start_time": "2020-12-21T07:01:41.120Z"
    }
   },
   "outputs": [],
   "source": [
    "outcomes.head()"
   ]
  },
  {
   "cell_type": "code",
   "execution_count": null,
   "metadata": {
    "ExecuteTime": {
     "start_time": "2020-12-21T07:01:41.121Z"
    }
   },
   "outputs": [],
   "source": [
    "outcomes.info()"
   ]
  },
  {
   "cell_type": "markdown",
   "metadata": {},
   "source": [
    "## Create Features : getting student activity"
   ]
  },
  {
   "cell_type": "code",
   "execution_count": null,
   "metadata": {
    "ExecuteTime": {
     "start_time": "2020-12-21T07:01:41.123Z"
    }
   },
   "outputs": [],
   "source": [
    "# get student data for entire course\n",
    "def get_student_data_until_cutoff(student_id, course_id, cutoff_date) :\n",
    "    '''get data for single student until cutoff date'''\n",
    "    \n",
    "    r = my_request('/api/v1/courses/{}/analytics/users/{}/activity?per_page=200'.format(course_id,student_id))\n",
    "    #creates data structure for page_views\n",
    "    df =pd.DataFrame.from_dict((r['page_views']),orient='index')\n",
    "    if df.empty :\n",
    "        #insert dummy pageviews to make formulas work\n",
    "        df = pd.DataFrame(columns = pd.RangeIndex(start=0, stop=1, step=1), index = [cutoff_date]).fillna(0)\n",
    "    df.index = pd.to_datetime(df.index)\n",
    "    df.columns = ['page_views']\n",
    "    #creates data sctructure for participations\n",
    "    df2 = pd.DataFrame.from_dict(r['participations'])\n",
    "    if df2.empty :\n",
    "        # insert dummy participation to make formulas work\n",
    "        df2 = pd.DataFrame({'created_at':cutoff_date, 'url':'NaN'}, index=['created_at'])\n",
    "    df2.set_index('created_at', inplace=True)\n",
    "    df2.index = pd.to_datetime(df2.index)\n",
    "    data = pd.DataFrame({\n",
    "        'student_id' : student_id,\n",
    "        'course_id' : course_id,\n",
    "        'tot_page_views': df[:cutoff_date].sum()[0],\n",
    "        'average_daily_views' : np.mean(df[:cutoff_date].resample('D').sum())[0],\n",
    "        'median_daily_views' : np.median(df[:cutoff_date].resample('D').sum()),\n",
    "        'max_daily_views' : np.max(df[:cutoff_date].resample('D').sum())[0],\n",
    "        'days_with_views' :len(df[:cutoff_date].resample('D').sum()),\n",
    "        'hours_with_views' : len(df[:cutoff_date]),\n",
    "        'max_views_per_hour' : np.max(df[:cutoff_date])[0],\n",
    "        'avg_views_per_hour' : np.mean(df[:cutoff_date])[0],\n",
    "        'median_views_per_hour' : np.median(df[:cutoff_date]),\n",
    "        'avg_hours_with_views_per_day' : np.mean(df[:cutoff_date].resample('D').count())[0],\n",
    "        'max_hours_with_views_per_day' : np.mean(df[:cutoff_date].resample('D').count())[0],\n",
    "        'median_hours_with_views_per_day' : np.median(df[:cutoff_date].resample('D').count()),\n",
    "        'tot_participations' : len(df2[:cutoff_date]),\n",
    "        'average_daily_participations' : np.mean(df2[:cutoff_date].resample('D').count())[0],\n",
    "        'median_daily_participations' : np.median(df2[:cutoff_date].resample('D').count()),\n",
    "        'max_daily_participations' : np.max(df2[:cutoff_date].resample('D').count())[0],\n",
    "        'days_with_participations' : len(df2[:cutoff_date].resample('D').count())                     \n",
    "    }, index=[student_id],)\n",
    "    return data\n",
    "\n",
    "\n",
    "def get_students_data_from_course_id(course_id, verbose=0) :\n",
    "    '''gets students data for entire course'''\n",
    "    features = pd.DataFrame() # Columns name necessary???\n",
    "    print(f\"Extracting data from course {course_id}.\")\n",
    "    # get list of students\n",
    "    print('Getting list of students...', end=\" \")\n",
    "    student_ids = get_list_of_students(course_id)\n",
    "    print('DONE')\n",
    "    \n",
    "    # get cutoff date\n",
    "    print('Getting cutoff date...', end=\" \")\n",
    "    cutoff_date = get_cutoff_date(course_id, cutoff_assignment = 'Assignment 4.1')\n",
    "    print('DONE')\n",
    "    \n",
    "    print('Getting data for each student...')\n",
    "    for s_id in student_ids :\n",
    "        if verbose == 1 :\n",
    "            print(f\"Student {s_id}...\", end=\" \")\n",
    "        else :\n",
    "            print(\"|\", end=\"\")\n",
    "        features = features.append(get_student_data_until_cutoff(s_id, course_id, cutoff_date))\n",
    "        if verbose == 1 : print(' DONE')\n",
    "    print(' DONE\\n')\n",
    "        \n",
    "    return features"
   ]
  },
  {
   "cell_type": "code",
   "execution_count": null,
   "metadata": {
    "ExecuteTime": {
     "start_time": "2020-12-21T07:01:41.124Z"
    }
   },
   "outputs": [],
   "source": [
    "features = pd.DataFrame()\n",
    "\n",
    "for c in course_ids :\n",
    "    features = features.append(get_students_data_from_course_id(c, verbose=1))\n",
    "    \n",
    "features.to_csv('../data/features.csv')"
   ]
  },
  {
   "cell_type": "code",
   "execution_count": null,
   "metadata": {
    "ExecuteTime": {
     "start_time": "2020-12-21T07:01:41.126Z"
    }
   },
   "outputs": [],
   "source": [
    "features.head()"
   ]
  },
  {
   "cell_type": "code",
   "execution_count": null,
   "metadata": {
    "ExecuteTime": {
     "start_time": "2020-12-21T07:01:41.128Z"
    }
   },
   "outputs": [],
   "source": [
    "features.info()"
   ]
  },
  {
   "cell_type": "markdown",
   "metadata": {},
   "source": [
    "## Potential additional features: student assignements and ontime performance\n",
    "In second iteration we could expand the input data by constructing more features:\n",
    "- time between publish date and participation\n",
    "- time before or after deadline\n",
    "- (hour of the day, day of the week.. could require timezone info of the student...)"
   ]
  },
  {
   "cell_type": "code",
   "execution_count": null,
   "metadata": {
    "ExecuteTime": {
     "start_time": "2020-12-21T07:01:41.129Z"
    }
   },
   "outputs": [],
   "source": [
    "#get list of assignments per student\n",
    "course_id = '1574'\n",
    "student_id = '71164'\n",
    "\n",
    "r = my_request('/api/v1/courses/{}/students/submissions?student_ids[]={}&per_page=200'.format(course_id,student_id))"
   ]
  },
  {
   "cell_type": "code",
   "execution_count": null,
   "metadata": {
    "ExecuteTime": {
     "start_time": "2020-12-21T07:01:41.130Z"
    }
   },
   "outputs": [],
   "source": [
    "pd.DataFrame.from_dict(r)[['grade','assignment_id','late','missing','seconds_late']].head()"
   ]
  },
  {
   "cell_type": "code",
   "execution_count": null,
   "metadata": {
    "ExecuteTime": {
     "start_time": "2020-12-21T07:01:41.132Z"
    },
    "scrolled": true
   },
   "outputs": [],
   "source": [
    "student_submissions = pd.DataFrame.from_dict(r)[['grade','assignment_id','late','missing','seconds_late']]\n",
    "student_submissions['grade'].replace(to_replace='complete',value=1, inplace=True)\n",
    "student_submissions['grade'].fillna(0,inplace=True)\n",
    "student_submissions['grade'] = student_submissions['grade'].astype(int) #convert boolean to int\n",
    "student_submissions['late'] = student_submissions['late'].astype(int)\n",
    "student_submissions['missing'] = student_submissions['missing'].astype(int)\n",
    "student_submissions"
   ]
  },
  {
   "cell_type": "markdown",
   "metadata": {},
   "source": [
    "This student submission could be transposed to create one feature per assignment id (match assignment id with name to merge across many courses)."
   ]
  },
  {
   "cell_type": "markdown",
   "metadata": {},
   "source": [
    "# Exploratoy Data Analysis"
   ]
  },
  {
   "cell_type": "code",
   "execution_count": null,
   "metadata": {
    "ExecuteTime": {
     "start_time": "2020-12-21T07:01:41.134Z"
    }
   },
   "outputs": [],
   "source": [
    "from src.ClfAutoEDA import *"
   ]
  },
  {
   "cell_type": "code",
   "execution_count": null,
   "metadata": {
    "ExecuteTime": {
     "start_time": "2020-12-21T07:01:41.136Z"
    }
   },
   "outputs": [],
   "source": [
    "with open('../data/features.csv') as f1:\n",
    "    df = pd.read_csv(f1)\n",
    "\n",
    "with open('../data/outcomes.csv') as f2:\n",
    "    outcomes = pd.read_csv(f2, usecols=['student_id', 'outcome'])\n",
    "                           \n",
    "df = pd.merge(df, outcomes, on='student_id')\n",
    " \n",
    "\n",
    "df.drop(['Unnamed: 0', 'course_id', 'student_id'], axis='columns', inplace=True)"
   ]
  },
  {
   "cell_type": "code",
   "execution_count": null,
   "metadata": {
    "ExecuteTime": {
     "start_time": "2020-12-21T07:01:41.138Z"
    }
   },
   "outputs": [],
   "source": [
    "df.head()"
   ]
  },
  {
   "cell_type": "code",
   "execution_count": null,
   "metadata": {
    "ExecuteTime": {
     "start_time": "2020-12-21T07:01:41.139Z"
    }
   },
   "outputs": [],
   "source": [
    "df.info()"
   ]
  },
  {
   "cell_type": "code",
   "execution_count": null,
   "metadata": {
    "ExecuteTime": {
     "start_time": "2020-12-21T07:01:41.140Z"
    }
   },
   "outputs": [],
   "source": [
    "labels = ['fail', 'pass']\n",
    "target_variable_name = 'outcome'\n",
    "\n",
    "EDA(df,labels,target_variable_name,\n",
    "        data_summary_figsize=(12,12),corr_matrix_figsize=(12,12),\n",
    "        data_summary_figcol=\"Blues\",corr_matrix_figcol='Blues',\n",
    "        corr_matrix_annot=True,\n",
    "        pairplt_col='all',pairplt=False,\n",
    "        feature_division_figsize=(12,12))"
   ]
  }
 ],
 "metadata": {
  "kernelspec": {
   "display_name": "Python [conda env:student-fail-prediction]",
   "language": "python",
   "name": "conda-env-student-fail-prediction-py"
  },
  "language_info": {
   "codemirror_mode": {
    "name": "ipython",
    "version": 3
   },
   "file_extension": ".py",
   "mimetype": "text/x-python",
   "name": "python",
   "nbconvert_exporter": "python",
   "pygments_lexer": "ipython3",
   "version": "3.8.6"
  },
  "varInspector": {
   "cols": {
    "lenName": 16,
    "lenType": 16,
    "lenVar": 40
   },
   "kernels_config": {
    "python": {
     "delete_cmd_postfix": "",
     "delete_cmd_prefix": "del ",
     "library": "var_list.py",
     "varRefreshCmd": "print(var_dic_list())"
    },
    "r": {
     "delete_cmd_postfix": ") ",
     "delete_cmd_prefix": "rm(",
     "library": "var_list.r",
     "varRefreshCmd": "cat(var_dic_list()) "
    }
   },
   "types_to_exclude": [
    "module",
    "function",
    "builtin_function_or_method",
    "instance",
    "_Feature"
   ],
   "window_display": false
  }
 },
 "nbformat": 4,
 "nbformat_minor": 4
}
