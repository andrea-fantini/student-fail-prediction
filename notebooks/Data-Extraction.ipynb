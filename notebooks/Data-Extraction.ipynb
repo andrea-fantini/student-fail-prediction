{
 "cells": [
  {
   "cell_type": "code",
   "execution_count": 1,
   "metadata": {},
   "outputs": [],
   "source": [
    "# Import CANVAS_API_KEY from the .env file\n",
    "from dotenv import load_dotenv\n",
    "load_dotenv(verbose=True)\n",
    "\n",
    "import os\n",
    "API_KEY = os.getenv(\"CANVAS_API_KEY\")\n",
    "BASE_URL = os.getenv(\"CANVAS_BASE_URL\")\n"
   ]
  },
  {
   "cell_type": "code",
   "execution_count": 2,
   "metadata": {},
   "outputs": [],
   "source": [
    "import pandas as pd\n",
    "import requests\n",
    "import json\n",
    "import numpy as np"
   ]
  },
  {
   "cell_type": "code",
   "execution_count": 3,
   "metadata": {},
   "outputs": [],
   "source": [
    "def my_request(API_URL):\n",
    "    headers = {'Authorization': 'Bearer '+ API_KEY}\n",
    "    r = requests.get(BASE_URL+API_URL, headers=headers)\n",
    "    return r.json()"
   ]
  },
  {
   "cell_type": "code",
   "execution_count": 4,
   "metadata": {},
   "outputs": [],
   "source": [
    "r = my_request('/api/v1/courses?enrollment_type=teacher')\n",
    "\n",
    "response= pd.DataFrame.from_dict(r)\n",
    "course_ids = response[response['name'].str.contains('AI')]['id']\n"
   ]
  },
  {
   "cell_type": "code",
   "execution_count": 38,
   "metadata": {},
   "outputs": [
    {
     "data": {
      "text/plain": [
       "0    1116\n",
       "1    1202\n",
       "2    1394\n",
       "3    1574\n",
       "4    1682\n",
       "Name: id, dtype: int64"
      ]
     },
     "execution_count": 38,
     "metadata": {},
     "output_type": "execute_result"
    }
   ],
   "source": []
  },
  {
   "cell_type": "markdown",
   "metadata": {},
   "source": [
    "```\n",
    "id\tname\n",
    "1116\tAI-1\n",
    "1202\tAI-2\n",
    "1394\tAI-3\n",
    "1574\tAI-4\n",
    "1682\tAI-5\n",
    "```"
   ]
  },
  {
   "cell_type": "code",
   "execution_count": 5,
   "metadata": {},
   "outputs": [],
   "source": [
    "#let's start by using AI-4 id:1574\n",
    "# course_id =course_ids[4]"
   ]
  },
  {
   "cell_type": "markdown",
   "metadata": {},
   "source": [
    "### Get student summaries"
   ]
  },
  {
   "cell_type": "code",
   "execution_count": 6,
   "metadata": {},
   "outputs": [],
   "source": [
    "# #Get student_summaries\n",
    "# r = my_request('/api/v1/courses/{}/analytics/student_summaries?per_page=200'.format(course_id))\n",
    "\n",
    "# response= pd.DataFrame.from_dict(r)"
   ]
  },
  {
   "cell_type": "code",
   "execution_count": 7,
   "metadata": {},
   "outputs": [],
   "source": [
    "# tardiness_summary = pd.DataFrame(list(response.tardiness_breakdown))\n",
    "# student_summaries = response.merge(tardiness_summary, left_index=True, right_index=True).drop(['tardiness_breakdown'], axis='columns')\n",
    "# student_summaries.head()"
   ]
  },
  {
   "cell_type": "markdown",
   "metadata": {},
   "source": [
    "### Getting Student History"
   ]
  },
  {
   "cell_type": "code",
   "execution_count": 8,
   "metadata": {},
   "outputs": [],
   "source": [
    "# # Get student history\n",
    "# # let's look at id: 75494\n",
    "# course_ids = '1574'\n",
    "# student_id = '75494'\n",
    "# r = my_request('/api/v1/courses/{}/analytics/users/{}/activity?per_page=200'.format(course_ids,student_id))\n"
   ]
  },
  {
   "cell_type": "code",
   "execution_count": 9,
   "metadata": {
    "scrolled": true
   },
   "outputs": [],
   "source": [
    "# r['page_views']"
   ]
  },
  {
   "cell_type": "code",
   "execution_count": 10,
   "metadata": {},
   "outputs": [],
   "source": [
    "# pd.DataFrame(list(zip(list(r['page_views']),r['page_views'].values())),columns=['date', 'pageviews']).head()"
   ]
  },
  {
   "cell_type": "code",
   "execution_count": 11,
   "metadata": {},
   "outputs": [],
   "source": [
    "# pd.DataFrame.from_dict(r['participations']).head()"
   ]
  },
  {
   "cell_type": "markdown",
   "metadata": {},
   "source": [
    "### Get student outcomes"
   ]
  },
  {
   "cell_type": "code",
   "execution_count": 12,
   "metadata": {},
   "outputs": [],
   "source": [
    "# #get sections\n",
    "# course_id = 1574\n",
    "                                      \n",
    "# r = my_request('/api/v1/courses/{}/sections?per_page=200'.format(course_id))"
   ]
  },
  {
   "cell_type": "code",
   "execution_count": 13,
   "metadata": {},
   "outputs": [],
   "source": [
    "# pd.DataFrame.from_dict(r)[['id','name']]"
   ]
  },
  {
   "cell_type": "markdown",
   "metadata": {},
   "source": [
    "## Extract Valid assignments"
   ]
  },
  {
   "cell_type": "code",
   "execution_count": 14,
   "metadata": {
    "scrolled": true
   },
   "outputs": [],
   "source": [
    "# #get assignment id (contains all sections)\n",
    "# course_id = '1574'\n",
    "                                      \n",
    "# r = my_request('/api/v1/courses/{}/assignments?per_page=200'.format(course_id))"
   ]
  },
  {
   "cell_type": "code",
   "execution_count": 15,
   "metadata": {},
   "outputs": [],
   "source": [
    "# all_assignments = pd.DataFrame(r)\n",
    "# all_assignments['name']"
   ]
  },
  {
   "cell_type": "code",
   "execution_count": 16,
   "metadata": {
    "scrolled": true
   },
   "outputs": [],
   "source": [
    "# required_assignments = all_assignments[all_assignments.name.str.contains('Assignment')\n",
    "#                              ^all_assignments.name.str.contains('Capstone')]\n",
    "# required_assignments[['id','name']].head()"
   ]
  },
  {
   "cell_type": "code",
   "execution_count": 17,
   "metadata": {
    "scrolled": true
   },
   "outputs": [],
   "source": [
    "# capstones = all_assignments[all_assignments.name.str.contains('Capstone')]\n",
    "# capstones[['id','name']].head()"
   ]
  },
  {
   "cell_type": "markdown",
   "metadata": {},
   "source": [
    "## Assignments per student"
   ]
  },
  {
   "cell_type": "code",
   "execution_count": 18,
   "metadata": {},
   "outputs": [],
   "source": [
    "# #get list of assignments per student\n",
    "# course_id = '1574'\n",
    "# student_id = '71164'\n",
    "\n",
    "# r = my_request('/api/v1/courses/{}/students/submissions?student_ids[]={}&per_page=200'.format(course_id,student_id))"
   ]
  },
  {
   "cell_type": "code",
   "execution_count": 20,
   "metadata": {},
   "outputs": [],
   "source": [
    "# pd.DataFrame.from_dict(r)[['grade','assignment_id','late','missing','seconds_late']]"
   ]
  },
  {
   "cell_type": "code",
   "execution_count": 21,
   "metadata": {
    "scrolled": true
   },
   "outputs": [],
   "source": [
    "# student_submissions = pd.DataFrame.from_dict(r)[['grade','assignment_id','late','missing','seconds_late']]\n",
    "# student_submissions['grade'].replace(to_replace='complete',value=1, inplace=True)\n",
    "# student_submissions['grade'].fillna(0,inplace=True)\n",
    "# student_submissions['grade'] = student_submissions['grade'].astype(int) #convert boolean to int\n",
    "# student_submissions['late'] = student_submissions['late'].astype(int)\n",
    "# student_submissions['missing'] = student_submissions['missing'].astype(int)\n",
    "# student_submissions"
   ]
  },
  {
   "cell_type": "code",
   "execution_count": 22,
   "metadata": {},
   "outputs": [],
   "source": [
    "def get_required_submissions_ids(course_id) : \n",
    "    '''extracts the required course ids for the course returns two dataframes:\n",
    "    - required_assignments\n",
    "    - capstones\n",
    "    each with two columns 'id' and 'name' \n",
    "    example usage: \n",
    "        required_assignments, capstones = get_required_submissions_ids(course_id) '''\n",
    "    \n",
    "    r = my_request('/api/v1/courses/{}/assignments?per_page=200'.format(course_id))\n",
    "    all_assignments = pd.DataFrame(r)\n",
    "    required_assignments = all_assignments[all_assignments.name.str.contains('Assignment')\n",
    "                             ^all_assignments.name.str.contains('Capstone')]\n",
    "    capstones = all_assignments[all_assignments.name.str.contains('Capstone')]\n",
    "    return required_assignments[['id','name']], capstones[['id','name']]"
   ]
  },
  {
   "cell_type": "code",
   "execution_count": 42,
   "metadata": {},
   "outputs": [],
   "source": [
    "# need to get only active students!! course 1682 failing at student 72758\n",
    "def get_list_of_students(course_id) : \n",
    "    '''get the list of students in a panda series.\n",
    "    Excample usage:\n",
    "    student_ids = get_list_of_students(course_id)'''\n",
    "    \n",
    "    r = my_request('/api/v1/courses/{}/enrollments?type[]=StudentEnrollment&state[]=active&per_page=200'.format(course_id))\n",
    "    \n",
    "    return pd.DataFrame.from_dict(r)['user_id']\n"
   ]
  },
  {
   "cell_type": "code",
   "execution_count": 36,
   "metadata": {},
   "outputs": [],
   "source": [
    "def check_student_passing_criteria(student_id, course_id, required_assignments, capstones) :\n",
    "    '''checks if the student passed or failed the course. returns boolean'''\n",
    "    r = my_request('/api/v1/courses/{}/students/submissions?student_ids[]={}&per_page=200'.format(course_id,student_id))\n",
    "    student_submissions = pd.DataFrame.from_dict(r)[['grade','assignment_id','late','missing','seconds_late']] #could reduce to 'assignment_id' and 'grade'\n",
    "    student_submissions['grade'].replace(to_replace='complete',value=1, inplace=True)\n",
    "    student_submissions['grade'].replace(to_replace='incomplete',value=0, inplace=True)\n",
    "    student_submissions['grade'].fillna(0,inplace=True)\n",
    "    student_submissions['grade'] = student_submissions['grade'].astype(int) #convert boolean to int\n",
    "    #student_submissions['late'] = student_submissions['late'].astype(int) # not needed as of right now. could check if too late...\n",
    "    #student_submissions['missing'] = student_submissions['missing'].astype(int)\n",
    "    \n",
    "    capstone_check = pd.merge(student_submissions, capstones, left_on='assignment_id', right_on='id', how='inner')['grade'].sum()\n",
    "    if capstone_check == 1 : \n",
    "        # meets the capstone passing criteria\n",
    "        # checking the next criteria\n",
    "        assignment_check = pd.merge(student_submissions, required_assignments, left_on='assignment_id', right_on='id', how='inner')['grade'].sum()\n",
    "        if assignment_check >= 7 :\n",
    "            # meets both criterias --> pass\n",
    "            return True\n",
    "    else :\n",
    "        # didn't meet at least one criteria\n",
    "        return False"
   ]
  },
  {
   "cell_type": "code",
   "execution_count": 29,
   "metadata": {},
   "outputs": [],
   "source": [
    "# calculate pass fail for entire course\n",
    "def check_passing_criteria_from_course_id(course_id) :\n",
    "    '''gets student pass fail for entire course'''\n",
    "    # get list of required assignments\n",
    "    print('Getting list of required assignments...', end=\" \")\n",
    "    required_assignments, capstones = get_required_submissions_ids(course_id)\n",
    "    print('DONE')\n",
    "    \n",
    "    # get list of students\n",
    "    print('Getting list of students...', end=\" \")\n",
    "    student_ids = get_list_of_students(course_id)\n",
    "    print('DONE')\n",
    "    \n",
    "    print('Checking every single student...\\n')\n",
    "    for s_id in student_ids :\n",
    "        print(s_id, end=\" \")\n",
    "        print(check_student_passing_criteria(s_id, course_id, required_assignments, capstones))"
   ]
  },
  {
   "cell_type": "markdown",
   "metadata": {},
   "source": [
    "```\n",
    "1116\tAI-1\n",
    "1202\tAI-2\n",
    "1394\tAI-3\n",
    "1574\tAI-4\n",
    "1682\tAI-5\n",
    "```"
   ]
  },
  {
   "cell_type": "code",
   "execution_count": 44,
   "metadata": {
    "scrolled": true
   },
   "outputs": [
    {
     "name": "stdout",
     "output_type": "stream",
     "text": [
      "Getting list of required assignments... DONE\n",
      "Getting list of students... DONE\n",
      "Checking every single student...\n",
      "\n",
      "47649 False\n",
      "52263 False\n",
      "24036 False\n",
      "52137 False\n",
      "52267 False\n",
      "52942 False\n",
      "52140 False\n",
      "52181 False\n",
      "52048 False\n",
      "51999 False\n",
      "52802 False\n",
      "52001 False\n",
      "52003 False\n",
      "52143 False\n",
      "24907 False\n",
      "52005 False\n",
      "51929 False\n",
      "52007 False\n",
      "52009 False\n",
      "52011 False\n",
      "51931 True\n",
      "52419 False\n",
      "51934 False\n",
      "52013 False\n",
      "52313 False\n",
      "52016 False\n",
      "52018 False\n",
      "51937 False\n",
      "52021 False\n",
      "52066 False\n",
      "52023 False\n",
      "51946 False\n",
      "52027 False\n",
      "50876 False\n",
      "52029 False\n",
      "52032 False\n",
      "52615 False\n",
      "2965 False\n",
      "52036 False\n",
      "52039 True\n",
      "52042 False\n",
      "52186 False\n",
      "52000 False\n",
      "44532 False\n",
      "53118 False\n",
      "52004 False\n",
      "51940 False\n",
      "52075 False\n",
      "52006 False\n",
      "52008 False\n",
      "52010 False\n",
      "44537 False\n",
      "11584 False\n",
      "52012 False\n",
      "52079 False\n",
      "52190 False\n",
      "52015 False\n",
      "42254 False\n",
      "52017 False\n",
      "52020 False\n",
      "51943 False\n",
      "52024 False\n",
      "52026 False\n",
      "52030 False\n",
      "52033 False\n",
      "52193 True\n",
      "52197 False\n",
      "52035 False\n",
      "52045 False\n",
      "52083 False\n",
      "52041 False\n",
      "52044 False\n",
      "52046 False\n",
      "52087 False\n",
      "52201 True\n",
      "52019 False\n",
      "52205 False\n",
      "52022 False\n",
      "52091 False\n",
      "23810 False\n",
      "51949 False\n",
      "52025 False\n",
      "53122 False\n",
      "52421 False\n",
      "52805 False\n",
      "45820 False\n",
      "52031 False\n",
      "52214 False\n",
      "52218 False\n",
      "52038 False\n",
      "52034 False\n",
      "45228 False\n",
      "36076 False\n",
      "44528 False\n",
      "52037 False\n",
      "52040 False\n",
      "52222 False\n",
      "10403 False\n",
      "52226 False\n",
      "52043 False\n"
     ]
    }
   ],
   "source": [
    "check_passing_criteria_from_course_id('1116')"
   ]
  },
  {
   "cell_type": "markdown",
   "metadata": {},
   "source": [
    "## check pass fail for the entire course"
   ]
  },
  {
   "cell_type": "raw",
   "metadata": {},
   "source": [
    "for c in course_ids :\n",
    "    check_passing_criteria_from_course_id(c)"
   ]
  },
  {
   "cell_type": "code",
   "execution_count": null,
   "metadata": {},
   "outputs": [],
   "source": []
  }
 ],
 "metadata": {
  "kernelspec": {
   "display_name": "Python [conda env:student-fail-prediction]",
   "language": "python",
   "name": "conda-env-student-fail-prediction-py"
  },
  "language_info": {
   "codemirror_mode": {
    "name": "ipython",
    "version": 3
   },
   "file_extension": ".py",
   "mimetype": "text/x-python",
   "name": "python",
   "nbconvert_exporter": "python",
   "pygments_lexer": "ipython3",
   "version": "3.8.6"
  }
 },
 "nbformat": 4,
 "nbformat_minor": 4
}
