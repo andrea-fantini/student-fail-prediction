{
 "cells": [
  {
   "cell_type": "markdown",
   "metadata": {},
   "source": [
    "# Data Pre-Processing"
   ]
  },
  {
   "cell_type": "code",
   "execution_count": 1,
   "metadata": {
    "ExecuteTime": {
     "end_time": "2020-12-26T20:02:45.290878Z",
     "start_time": "2020-12-26T20:02:23.503679Z"
    }
   },
   "outputs": [],
   "source": [
    "import pandas as pd\n",
    "import numpy as np\n",
    "import matplotlib.pyplot as plt\n",
    "import seaborn as sns\n",
    "\n",
    "import pickle\n",
    "\n",
    "from sklearn.preprocessing import MinMaxScaler\n",
    "from sklearn.model_selection import train_test_split, cross_val_score, StratifiedKFold\n",
    "from sklearn.linear_model import LogisticRegression\n",
    "from sklearn.feature_selection import SelectFromModel, RFECV\n",
    "from sklearn.ensemble import RandomForestClassifier\n",
    "from sklearn.metrics import accuracy_score\n",
    "\n",
    "from xgboost import XGBClassifier\n",
    "from sklearn.metrics import accuracy_score\n",
    "import sklearn.metrics as metrics\n",
    "\n",
    "from timeit import default_timer as timer\n",
    "from datetime import datetime, date\n",
    "\n",
    "from sklearn.preprocessing import MinMaxScaler\n",
    "from sklearn.metrics import confusion_matrix\n",
    "from sklearn.ensemble import RandomForestClassifier\n",
    "from sklearn.model_selection import cross_val_score\n",
    "from sklearn.metrics import make_scorer\n",
    "\n",
    "from skopt import BayesSearchCV\n",
    "from skopt.space import Real, Categorical, Integer"
   ]
  },
  {
   "cell_type": "code",
   "execution_count": 2,
   "metadata": {
    "ExecuteTime": {
     "end_time": "2020-12-26T20:02:45.306192Z",
     "start_time": "2020-12-26T20:02:45.297411Z"
    }
   },
   "outputs": [],
   "source": [
    "def plot_multiclass_confusion_matrix(y_test, y_pred, categories):\n",
    "    \"\"\"Plots the confusion matrix given the data and the lables.\"\"\"\n",
    "    \n",
    "    cm = confusion_matrix(y_test, y_pred)\n",
    "    #print(cm)\n",
    "    \n",
    "    group_counts = [\"{0:0.0f}\\n\".format(value) for value in cm.flatten()]\n",
    "    group_percentages = [\"{0:.2%}\".format(value) for value in cm.flatten()/np.sum(cm)]\n",
    "    stats_text = \"\\n\\nAccuracy={:0.2f}%\".format(100*np.trace(cm) / float(np.sum(cm)))\n",
    "    \n",
    "    box_labels = [f\"{v2}{v3}\".strip() for v2, v3 in zip(group_counts,group_percentages)]\n",
    "    box_labels = np.asarray(box_labels).reshape(cm.shape[0],cm.shape[1])\n",
    "\n",
    "    fig = plt.figure(figsize=(6,6))\n",
    "    sns.set(font_scale=1.4)\n",
    "    ax = sns.heatmap(cm, annot=box_labels, fmt='', cmap='Reds', xticklabels=categories, yticklabels=categories)\n",
    "    ax.set_ylabel('True Label')\n",
    "    ax.set_xlabel('Predicted Label')\n",
    "    ax.set_title(stats_text)\n",
    "    \n",
    "    return fig, ax"
   ]
  },
  {
   "cell_type": "code",
   "execution_count": 3,
   "metadata": {
    "ExecuteTime": {
     "end_time": "2020-12-26T20:02:45.425015Z",
     "start_time": "2020-12-26T20:02:45.308934Z"
    }
   },
   "outputs": [],
   "source": [
    "# Define Search parameters\n",
    "SCORING='precision'\n",
    "# SCORING='roc_auc'\n",
    "# SCORING='accuracy'\n",
    "CV_FOLDS=3\n",
    "\n",
    "N_ITER=10 #For Bayesian Search\n",
    "N_POINTS=1 #For Bayesian Search\n",
    "\n"
   ]
  },
  {
   "cell_type": "code",
   "execution_count": 4,
   "metadata": {
    "ExecuteTime": {
     "end_time": "2020-12-26T20:02:45.995093Z",
     "start_time": "2020-12-26T20:02:45.431179Z"
    },
    "code_folding": []
   },
   "outputs": [],
   "source": [
    "with open('../data/features.csv') as f1:\n",
    "    df = pd.read_csv(f1)\n",
    "\n",
    "with open('../data/outcomes.csv') as f2:\n",
    "    outcomes = pd.read_csv(f2, usecols=['student_id', 'outcome'])\n",
    "                           \n",
    "df = pd.merge(df, outcomes, on='student_id')\n",
    " \n",
    "\n",
    "df.drop(['Unnamed: 0', 'course_id'], axis='columns', inplace=True)\n",
    "labels = ['fail', 'pass']\n",
    "target_variable_name = 'outcome'\n",
    "df.dropna(axis='index', how='any', subset=['outcome'], inplace=True)\n",
    "df.outcome = df.outcome.astype(int)"
   ]
  },
  {
   "cell_type": "code",
   "execution_count": 5,
   "metadata": {
    "ExecuteTime": {
     "end_time": "2020-12-26T20:02:46.087027Z",
     "start_time": "2020-12-26T20:02:45.998872Z"
    },
    "scrolled": true
   },
   "outputs": [
    {
     "data": {
      "text/html": [
       "<div>\n",
       "<style scoped>\n",
       "    .dataframe tbody tr th:only-of-type {\n",
       "        vertical-align: middle;\n",
       "    }\n",
       "\n",
       "    .dataframe tbody tr th {\n",
       "        vertical-align: top;\n",
       "    }\n",
       "\n",
       "    .dataframe thead th {\n",
       "        text-align: right;\n",
       "    }\n",
       "</style>\n",
       "<table border=\"1\" class=\"dataframe\">\n",
       "  <thead>\n",
       "    <tr style=\"text-align: right;\">\n",
       "      <th></th>\n",
       "      <th>student_id</th>\n",
       "      <th>tot_page_views</th>\n",
       "      <th>average_daily_views</th>\n",
       "      <th>median_daily_views</th>\n",
       "      <th>max_daily_views</th>\n",
       "      <th>days_with_views</th>\n",
       "      <th>hours_with_views</th>\n",
       "      <th>max_views_per_hour</th>\n",
       "      <th>avg_views_per_hour</th>\n",
       "      <th>median_views_per_hour</th>\n",
       "      <th>avg_hours_with_views_per_day</th>\n",
       "      <th>max_hours_with_views_per_day</th>\n",
       "      <th>median_hours_with_views_per_day</th>\n",
       "      <th>tot_participations</th>\n",
       "      <th>average_daily_participations</th>\n",
       "      <th>median_daily_participations</th>\n",
       "      <th>max_daily_participations</th>\n",
       "      <th>days_with_participations</th>\n",
       "      <th>outcome</th>\n",
       "    </tr>\n",
       "  </thead>\n",
       "  <tbody>\n",
       "    <tr>\n",
       "      <th>0</th>\n",
       "      <td>47649</td>\n",
       "      <td>1153</td>\n",
       "      <td>22.607843</td>\n",
       "      <td>16.0</td>\n",
       "      <td>118.0</td>\n",
       "      <td>51</td>\n",
       "      <td>71</td>\n",
       "      <td>88.0</td>\n",
       "      <td>16.239437</td>\n",
       "      <td>15.0</td>\n",
       "      <td>1.392157</td>\n",
       "      <td>1.392157</td>\n",
       "      <td>1.0</td>\n",
       "      <td>23</td>\n",
       "      <td>0.460000</td>\n",
       "      <td>0.0</td>\n",
       "      <td>4.0</td>\n",
       "      <td>50</td>\n",
       "      <td>1</td>\n",
       "    </tr>\n",
       "    <tr>\n",
       "      <th>1</th>\n",
       "      <td>52263</td>\n",
       "      <td>744</td>\n",
       "      <td>15.183673</td>\n",
       "      <td>0.0</td>\n",
       "      <td>93.0</td>\n",
       "      <td>49</td>\n",
       "      <td>67</td>\n",
       "      <td>48.0</td>\n",
       "      <td>11.104478</td>\n",
       "      <td>8.0</td>\n",
       "      <td>1.367347</td>\n",
       "      <td>1.367347</td>\n",
       "      <td>0.0</td>\n",
       "      <td>20</td>\n",
       "      <td>0.434783</td>\n",
       "      <td>0.0</td>\n",
       "      <td>3.0</td>\n",
       "      <td>46</td>\n",
       "      <td>1</td>\n",
       "    </tr>\n",
       "    <tr>\n",
       "      <th>2</th>\n",
       "      <td>24036</td>\n",
       "      <td>341</td>\n",
       "      <td>6.686275</td>\n",
       "      <td>0.0</td>\n",
       "      <td>80.0</td>\n",
       "      <td>51</td>\n",
       "      <td>27</td>\n",
       "      <td>48.0</td>\n",
       "      <td>12.629630</td>\n",
       "      <td>11.0</td>\n",
       "      <td>0.529412</td>\n",
       "      <td>0.529412</td>\n",
       "      <td>0.0</td>\n",
       "      <td>15</td>\n",
       "      <td>0.333333</td>\n",
       "      <td>0.0</td>\n",
       "      <td>3.0</td>\n",
       "      <td>45</td>\n",
       "      <td>1</td>\n",
       "    </tr>\n",
       "    <tr>\n",
       "      <th>3</th>\n",
       "      <td>52137</td>\n",
       "      <td>237</td>\n",
       "      <td>5.042553</td>\n",
       "      <td>0.0</td>\n",
       "      <td>68.0</td>\n",
       "      <td>47</td>\n",
       "      <td>19</td>\n",
       "      <td>32.0</td>\n",
       "      <td>12.473684</td>\n",
       "      <td>9.0</td>\n",
       "      <td>0.404255</td>\n",
       "      <td>0.404255</td>\n",
       "      <td>0.0</td>\n",
       "      <td>6</td>\n",
       "      <td>0.187500</td>\n",
       "      <td>0.0</td>\n",
       "      <td>3.0</td>\n",
       "      <td>32</td>\n",
       "      <td>1</td>\n",
       "    </tr>\n",
       "    <tr>\n",
       "      <th>4</th>\n",
       "      <td>52267</td>\n",
       "      <td>665</td>\n",
       "      <td>13.300000</td>\n",
       "      <td>0.0</td>\n",
       "      <td>161.0</td>\n",
       "      <td>50</td>\n",
       "      <td>42</td>\n",
       "      <td>118.0</td>\n",
       "      <td>15.833333</td>\n",
       "      <td>8.0</td>\n",
       "      <td>0.840000</td>\n",
       "      <td>0.840000</td>\n",
       "      <td>0.0</td>\n",
       "      <td>26</td>\n",
       "      <td>0.520000</td>\n",
       "      <td>0.0</td>\n",
       "      <td>5.0</td>\n",
       "      <td>50</td>\n",
       "      <td>1</td>\n",
       "    </tr>\n",
       "  </tbody>\n",
       "</table>\n",
       "</div>"
      ],
      "text/plain": [
       "   student_id  tot_page_views  average_daily_views  median_daily_views  \\\n",
       "0       47649            1153            22.607843                16.0   \n",
       "1       52263             744            15.183673                 0.0   \n",
       "2       24036             341             6.686275                 0.0   \n",
       "3       52137             237             5.042553                 0.0   \n",
       "4       52267             665            13.300000                 0.0   \n",
       "\n",
       "   max_daily_views  days_with_views  hours_with_views  max_views_per_hour  \\\n",
       "0            118.0               51                71                88.0   \n",
       "1             93.0               49                67                48.0   \n",
       "2             80.0               51                27                48.0   \n",
       "3             68.0               47                19                32.0   \n",
       "4            161.0               50                42               118.0   \n",
       "\n",
       "   avg_views_per_hour  median_views_per_hour  avg_hours_with_views_per_day  \\\n",
       "0           16.239437                   15.0                      1.392157   \n",
       "1           11.104478                    8.0                      1.367347   \n",
       "2           12.629630                   11.0                      0.529412   \n",
       "3           12.473684                    9.0                      0.404255   \n",
       "4           15.833333                    8.0                      0.840000   \n",
       "\n",
       "   max_hours_with_views_per_day  median_hours_with_views_per_day  \\\n",
       "0                      1.392157                              1.0   \n",
       "1                      1.367347                              0.0   \n",
       "2                      0.529412                              0.0   \n",
       "3                      0.404255                              0.0   \n",
       "4                      0.840000                              0.0   \n",
       "\n",
       "   tot_participations  average_daily_participations  \\\n",
       "0                  23                      0.460000   \n",
       "1                  20                      0.434783   \n",
       "2                  15                      0.333333   \n",
       "3                   6                      0.187500   \n",
       "4                  26                      0.520000   \n",
       "\n",
       "   median_daily_participations  max_daily_participations  \\\n",
       "0                          0.0                       4.0   \n",
       "1                          0.0                       3.0   \n",
       "2                          0.0                       3.0   \n",
       "3                          0.0                       3.0   \n",
       "4                          0.0                       5.0   \n",
       "\n",
       "   days_with_participations  outcome  \n",
       "0                        50        1  \n",
       "1                        46        1  \n",
       "2                        45        1  \n",
       "3                        32        1  \n",
       "4                        50        1  "
      ]
     },
     "execution_count": 5,
     "metadata": {},
     "output_type": "execute_result"
    }
   ],
   "source": [
    "df.head()"
   ]
  },
  {
   "cell_type": "markdown",
   "metadata": {},
   "source": [
    "## Missing Values\n",
    "\n",
    "Since there are only a few missing values we can simply discard them"
   ]
  },
  {
   "cell_type": "code",
   "execution_count": 6,
   "metadata": {
    "ExecuteTime": {
     "end_time": "2020-12-26T20:02:46.353226Z",
     "start_time": "2020-12-26T20:02:46.090433Z"
    }
   },
   "outputs": [
    {
     "name": "stdout",
     "output_type": "stream",
     "text": [
      "<class 'pandas.core.frame.DataFrame'>\n",
      "Int64Index: 422 entries, 0 to 424\n",
      "Data columns (total 19 columns):\n",
      " #   Column                           Non-Null Count  Dtype  \n",
      "---  ------                           --------------  -----  \n",
      " 0   student_id                       422 non-null    int64  \n",
      " 1   tot_page_views                   422 non-null    int64  \n",
      " 2   average_daily_views              419 non-null    float64\n",
      " 3   median_daily_views               419 non-null    float64\n",
      " 4   max_daily_views                  419 non-null    float64\n",
      " 5   days_with_views                  422 non-null    int64  \n",
      " 6   hours_with_views                 422 non-null    int64  \n",
      " 7   max_views_per_hour               419 non-null    float64\n",
      " 8   avg_views_per_hour               419 non-null    float64\n",
      " 9   median_views_per_hour            419 non-null    float64\n",
      " 10  avg_hours_with_views_per_day     419 non-null    float64\n",
      " 11  max_hours_with_views_per_day     419 non-null    float64\n",
      " 12  median_hours_with_views_per_day  419 non-null    float64\n",
      " 13  tot_participations               422 non-null    int64  \n",
      " 14  average_daily_participations     417 non-null    float64\n",
      " 15  median_daily_participations      417 non-null    float64\n",
      " 16  max_daily_participations         417 non-null    float64\n",
      " 17  days_with_participations         422 non-null    int64  \n",
      " 18  outcome                          422 non-null    int64  \n",
      "dtypes: float64(12), int64(7)\n",
      "memory usage: 65.9 KB\n"
     ]
    }
   ],
   "source": [
    "df.info()"
   ]
  },
  {
   "cell_type": "code",
   "execution_count": 7,
   "metadata": {
    "ExecuteTime": {
     "end_time": "2020-12-26T20:02:46.365262Z",
     "start_time": "2020-12-26T20:02:46.356235Z"
    }
   },
   "outputs": [],
   "source": [
    "df.dropna(axis='index', how='any', inplace=True)"
   ]
  },
  {
   "cell_type": "code",
   "execution_count": 8,
   "metadata": {
    "ExecuteTime": {
     "end_time": "2020-12-26T20:02:46.481486Z",
     "start_time": "2020-12-26T20:02:46.368028Z"
    }
   },
   "outputs": [
    {
     "name": "stdout",
     "output_type": "stream",
     "text": [
      "<class 'pandas.core.frame.DataFrame'>\n",
      "Int64Index: 416 entries, 0 to 424\n",
      "Data columns (total 19 columns):\n",
      " #   Column                           Non-Null Count  Dtype  \n",
      "---  ------                           --------------  -----  \n",
      " 0   student_id                       416 non-null    int64  \n",
      " 1   tot_page_views                   416 non-null    int64  \n",
      " 2   average_daily_views              416 non-null    float64\n",
      " 3   median_daily_views               416 non-null    float64\n",
      " 4   max_daily_views                  416 non-null    float64\n",
      " 5   days_with_views                  416 non-null    int64  \n",
      " 6   hours_with_views                 416 non-null    int64  \n",
      " 7   max_views_per_hour               416 non-null    float64\n",
      " 8   avg_views_per_hour               416 non-null    float64\n",
      " 9   median_views_per_hour            416 non-null    float64\n",
      " 10  avg_hours_with_views_per_day     416 non-null    float64\n",
      " 11  max_hours_with_views_per_day     416 non-null    float64\n",
      " 12  median_hours_with_views_per_day  416 non-null    float64\n",
      " 13  tot_participations               416 non-null    int64  \n",
      " 14  average_daily_participations     416 non-null    float64\n",
      " 15  median_daily_participations      416 non-null    float64\n",
      " 16  max_daily_participations         416 non-null    float64\n",
      " 17  days_with_participations         416 non-null    int64  \n",
      " 18  outcome                          416 non-null    int64  \n",
      "dtypes: float64(12), int64(7)\n",
      "memory usage: 65.0 KB\n"
     ]
    }
   ],
   "source": [
    "df.info()"
   ]
  },
  {
   "cell_type": "markdown",
   "metadata": {},
   "source": [
    "## Feature Selection\n"
   ]
  },
  {
   "cell_type": "code",
   "execution_count": 9,
   "metadata": {
    "ExecuteTime": {
     "end_time": "2020-12-26T20:02:46.564813Z",
     "start_time": "2020-12-26T20:02:46.484950Z"
    }
   },
   "outputs": [],
   "source": [
    "x = df.drop(['student_id','outcome'], axis='columns')\n",
    "y = df['outcome'].values.reshape(-1,1)"
   ]
  },
  {
   "cell_type": "code",
   "execution_count": 10,
   "metadata": {
    "ExecuteTime": {
     "end_time": "2020-12-26T20:02:46.642177Z",
     "start_time": "2020-12-26T20:02:46.569141Z"
    }
   },
   "outputs": [
    {
     "data": {
      "text/plain": [
       "((416, 17), (416, 1))"
      ]
     },
     "execution_count": 10,
     "metadata": {},
     "output_type": "execute_result"
    }
   ],
   "source": [
    "x.shape, y.shape"
   ]
  },
  {
   "cell_type": "code",
   "execution_count": 11,
   "metadata": {
    "ExecuteTime": {
     "end_time": "2020-12-26T20:02:46.790845Z",
     "start_time": "2020-12-26T20:02:46.648470Z"
    }
   },
   "outputs": [
    {
     "data": {
      "text/plain": [
       "((291, 17), (125, 17))"
      ]
     },
     "execution_count": 11,
     "metadata": {},
     "output_type": "execute_result"
    }
   ],
   "source": [
    "Min_Max = MinMaxScaler()\n",
    "X = Min_Max.fit_transform(x)\n",
    "Y= Min_Max.fit_transform(y)\n",
    "\n",
    "# Split the data into test and training\n",
    "X_train, X_test, Y_train, Y_test = train_test_split(X, Y, test_size=0.3, random_state=0)\n",
    "\n",
    "X_train.shape, X_test.shape"
   ]
  },
  {
   "cell_type": "code",
   "execution_count": 12,
   "metadata": {
    "ExecuteTime": {
     "end_time": "2020-12-26T20:02:52.618295Z",
     "start_time": "2020-12-26T20:02:46.795473Z"
    },
    "scrolled": false
   },
   "outputs": [
    {
     "name": "stdout",
     "output_type": "stream",
     "text": [
      "Naive Random Forest all features\n",
      "Mean Score: 0.8455571190327289 \n",
      "Standard Deviation : 0.018073102207309618\n"
     ]
    }
   ],
   "source": [
    "scores_df = pd.DataFrame()\n",
    "# Create a naive random forest classifier\n",
    "clf = RandomForestClassifier(n_estimators=1000, random_state=0, n_jobs=-1)\n",
    "# Train the classifier\n",
    "cv_scores = cross_val_score(clf, X_train,np.ravel(Y_train), cv=CV_FOLDS, scoring=SCORING)\n",
    "\n",
    "print(\"Naive Random Forest all features\")\n",
    "print(f\"Mean Score: {np.mean(cv_scores)} \\nStandard Deviation : {np.std(cv_scores)}\")"
   ]
  },
  {
   "cell_type": "code",
   "execution_count": 13,
   "metadata": {
    "ExecuteTime": {
     "end_time": "2020-12-26T20:02:52.650210Z",
     "start_time": "2020-12-26T20:02:52.622154Z"
    }
   },
   "outputs": [],
   "source": [
    "scores_df = scores_df.append({'# features':'all',\n",
    "               'Mean Score':np.mean(cv_scores),\n",
    "               'Std':np.std(cv_scores)}, ignore_index=True)"
   ]
  },
  {
   "cell_type": "code",
   "execution_count": 14,
   "metadata": {
    "ExecuteTime": {
     "end_time": "2020-12-26T20:02:52.766825Z",
     "start_time": "2020-12-26T20:02:52.653143Z"
    }
   },
   "outputs": [
    {
     "data": {
      "text/html": [
       "<div>\n",
       "<style scoped>\n",
       "    .dataframe tbody tr th:only-of-type {\n",
       "        vertical-align: middle;\n",
       "    }\n",
       "\n",
       "    .dataframe tbody tr th {\n",
       "        vertical-align: top;\n",
       "    }\n",
       "\n",
       "    .dataframe thead th {\n",
       "        text-align: right;\n",
       "    }\n",
       "</style>\n",
       "<table border=\"1\" class=\"dataframe\">\n",
       "  <thead>\n",
       "    <tr style=\"text-align: right;\">\n",
       "      <th></th>\n",
       "      <th># features</th>\n",
       "      <th>Mean Score</th>\n",
       "      <th>Std</th>\n",
       "    </tr>\n",
       "  </thead>\n",
       "  <tbody>\n",
       "    <tr>\n",
       "      <th>0</th>\n",
       "      <td>all</td>\n",
       "      <td>0.845557</td>\n",
       "      <td>0.018073</td>\n",
       "    </tr>\n",
       "  </tbody>\n",
       "</table>\n",
       "</div>"
      ],
      "text/plain": [
       "  # features  Mean Score       Std\n",
       "0        all    0.845557  0.018073"
      ]
     },
     "execution_count": 14,
     "metadata": {},
     "output_type": "execute_result"
    }
   ],
   "source": [
    "scores_df"
   ]
  },
  {
   "cell_type": "markdown",
   "metadata": {},
   "source": [
    "### Lasso"
   ]
  },
  {
   "cell_type": "code",
   "execution_count": 15,
   "metadata": {
    "ExecuteTime": {
     "end_time": "2020-12-26T20:02:53.016076Z",
     "start_time": "2020-12-26T20:02:52.769484Z"
    }
   },
   "outputs": [
    {
     "data": {
      "text/plain": [
       "SelectFromModel(estimator=LogisticRegression(C=1, penalty='l1',\n",
       "                                             solver='liblinear'))"
      ]
     },
     "execution_count": 15,
     "metadata": {},
     "output_type": "execute_result"
    }
   ],
   "source": [
    "sel = SelectFromModel(LogisticRegression(C=1, penalty='l1', solver='liblinear'))\n",
    "sel.fit(X_train, np.ravel(Y_train))"
   ]
  },
  {
   "cell_type": "code",
   "execution_count": 16,
   "metadata": {
    "ExecuteTime": {
     "end_time": "2020-12-26T20:02:53.054163Z",
     "start_time": "2020-12-26T20:02:53.019526Z"
    }
   },
   "outputs": [
    {
     "name": "stdout",
     "output_type": "stream",
     "text": [
      "Selected features :\n",
      "- hours_with_views\n",
      "- avg_views_per_hour\n",
      "- tot_participations\n",
      "- days_with_participations\n"
     ]
    }
   ],
   "source": [
    "print(\"Selected features :\")\n",
    "_ = [print(f\"- {c}\") for c in x.loc[:, sel.get_support()].columns]"
   ]
  },
  {
   "cell_type": "code",
   "execution_count": 17,
   "metadata": {
    "ExecuteTime": {
     "end_time": "2020-12-26T20:02:53.156821Z",
     "start_time": "2020-12-26T20:02:53.057236Z"
    }
   },
   "outputs": [
    {
     "name": "stdout",
     "output_type": "stream",
     "text": [
      "total features: 17\n",
      "selected features: 4\n",
      "features with coefficients shrank to zero: 13\n"
     ]
    }
   ],
   "source": [
    "X_train_df = pd.DataFrame(X_train)\n",
    "selected_features = X_train_df.columns[(sel.get_support())]\n",
    "print(f'total features: {(X_train_df.shape[1])}')\n",
    "print(f'selected features: {len(selected_features)}')\n",
    "print(f'features with coefficients shrank to zero: {np.sum(sel.estimator_.coef_ == 0)}')"
   ]
  },
  {
   "cell_type": "code",
   "execution_count": 18,
   "metadata": {
    "ExecuteTime": {
     "end_time": "2020-12-26T20:02:53.258199Z",
     "start_time": "2020-12-26T20:02:53.161429Z"
    }
   },
   "outputs": [
    {
     "data": {
      "text/plain": [
       "Int64Index([0, 1, 2, 3, 4, 6, 8, 9, 10, 11, 13, 14, 15], dtype='int64')"
      ]
     },
     "execution_count": 18,
     "metadata": {},
     "output_type": "execute_result"
    }
   ],
   "source": [
    "removed_features = X_train_df.columns[(sel.estimator_.coef_ == 0).ravel().tolist()]\n",
    "removed_features"
   ]
  },
  {
   "cell_type": "code",
   "execution_count": 19,
   "metadata": {
    "ExecuteTime": {
     "end_time": "2020-12-26T20:02:53.368328Z",
     "start_time": "2020-12-26T20:02:53.262608Z"
    }
   },
   "outputs": [],
   "source": [
    "X_train_lasso_selected = sel.transform(X_train_df)\n",
    "X_test_lasso_selected = sel.transform(X_test)"
   ]
  },
  {
   "cell_type": "code",
   "execution_count": 20,
   "metadata": {
    "ExecuteTime": {
     "end_time": "2020-12-26T20:02:57.663282Z",
     "start_time": "2020-12-26T20:02:53.371365Z"
    }
   },
   "outputs": [
    {
     "name": "stdout",
     "output_type": "stream",
     "text": [
      "Naive Random Forest all features\n",
      "Mean Score: 0.8542565244569463 \n",
      "Standard Deviation : 0.01476160599962281\n"
     ]
    }
   ],
   "source": [
    "# Create a naive random forest classifier\n",
    "#clf = RandomForestClassifier(n_estimators=1000, random_state=0, n_jobs=-1)\n",
    "# Train the classifier\n",
    "cv_scores = cross_val_score(clf, X_train_lasso_selected, np.ravel(Y_train), cv=CV_FOLDS, scoring=SCORING)\n",
    "\n",
    "print(\"Naive Random Forest all features\")\n",
    "print(f\"Mean Score: {np.mean(cv_scores)} \\nStandard Deviation : {np.std(cv_scores)}\")"
   ]
  },
  {
   "cell_type": "code",
   "execution_count": 21,
   "metadata": {
    "ExecuteTime": {
     "end_time": "2020-12-26T20:02:57.685237Z",
     "start_time": "2020-12-26T20:02:57.667793Z"
    },
    "scrolled": true
   },
   "outputs": [
    {
     "data": {
      "text/html": [
       "<div>\n",
       "<style scoped>\n",
       "    .dataframe tbody tr th:only-of-type {\n",
       "        vertical-align: middle;\n",
       "    }\n",
       "\n",
       "    .dataframe tbody tr th {\n",
       "        vertical-align: top;\n",
       "    }\n",
       "\n",
       "    .dataframe thead th {\n",
       "        text-align: right;\n",
       "    }\n",
       "</style>\n",
       "<table border=\"1\" class=\"dataframe\">\n",
       "  <thead>\n",
       "    <tr style=\"text-align: right;\">\n",
       "      <th></th>\n",
       "      <th># features</th>\n",
       "      <th>Mean Score</th>\n",
       "      <th>Std</th>\n",
       "    </tr>\n",
       "  </thead>\n",
       "  <tbody>\n",
       "    <tr>\n",
       "      <th>0</th>\n",
       "      <td>all</td>\n",
       "      <td>0.845557</td>\n",
       "      <td>0.018073</td>\n",
       "    </tr>\n",
       "    <tr>\n",
       "      <th>1</th>\n",
       "      <td>lasso</td>\n",
       "      <td>0.854257</td>\n",
       "      <td>0.014762</td>\n",
       "    </tr>\n",
       "  </tbody>\n",
       "</table>\n",
       "</div>"
      ],
      "text/plain": [
       "  # features  Mean Score       Std\n",
       "0        all    0.845557  0.018073\n",
       "1      lasso    0.854257  0.014762"
      ]
     },
     "execution_count": 21,
     "metadata": {},
     "output_type": "execute_result"
    }
   ],
   "source": [
    "scores_df = scores_df.append({'# features':'lasso',\n",
    "               'Mean Score':np.mean(cv_scores),\n",
    "               'Std':np.std(cv_scores)}, ignore_index=True)\n",
    "scores_df.head()"
   ]
  },
  {
   "cell_type": "markdown",
   "metadata": {
    "heading_collapsed": true
   },
   "source": [
    "### RFE"
   ]
  },
  {
   "cell_type": "code",
   "execution_count": 22,
   "metadata": {
    "ExecuteTime": {
     "end_time": "2020-12-26T20:02:58.041202Z",
     "start_time": "2020-12-26T20:02:57.691990Z"
    },
    "hidden": true
   },
   "outputs": [],
   "source": [
    "# Load/Run RFE\n",
    "pkl_filename = f\"../models/rfecv_{SCORING}.pkl\"\n",
    "try :\n",
    "    # Load Model\n",
    "    rfecv = pickle.load(open(pkl_filename, 'rb'))\n",
    "\n",
    "except :\n",
    "    # Perform RFE\n",
    "    print('Training')\n",
    "    rfecv = RFECV(estimator=clf, step=1, cv=StratifiedKFold(CV_FOLDS), scoring=SCORING)\n",
    "    rfecv.fit(X_train, np.ravel(Y_train))\n",
    "    # Save model\n",
    "    with open(pkl_filename, 'wb') as file:\n",
    "        pickle.dump(rfecv, file)"
   ]
  },
  {
   "cell_type": "code",
   "execution_count": 23,
   "metadata": {
    "ExecuteTime": {
     "end_time": "2020-12-26T20:02:58.048497Z",
     "start_time": "2020-12-26T20:02:58.044520Z"
    },
    "hidden": true
   },
   "outputs": [
    {
     "name": "stdout",
     "output_type": "stream",
     "text": [
      "Optimal number of features: 4\n"
     ]
    }
   ],
   "source": [
    "print(f'Optimal number of features: {rfecv.n_features_}')"
   ]
  },
  {
   "cell_type": "code",
   "execution_count": 24,
   "metadata": {
    "ExecuteTime": {
     "end_time": "2020-12-26T20:02:58.153112Z",
     "start_time": "2020-12-26T20:02:58.050627Z"
    },
    "hidden": true
   },
   "outputs": [
    {
     "name": "stdout",
     "output_type": "stream",
     "text": [
      "Selected features :\n",
      "- days_with_views\n",
      "- hours_with_views\n",
      "- tot_participations\n",
      "- days_with_participations\n"
     ]
    }
   ],
   "source": [
    "print(\"Selected features :\")\n",
    "_ = [print(f\"- {c}\") for c in x.loc[:, rfecv.support_].columns]"
   ]
  },
  {
   "cell_type": "code",
   "execution_count": 25,
   "metadata": {
    "ExecuteTime": {
     "end_time": "2020-12-26T20:02:59.020677Z",
     "start_time": "2020-12-26T20:02:58.157848Z"
    },
    "hidden": true
   },
   "outputs": [
    {
     "data": {
      "image/png": "[encoded data removed]",
      "text/plain": [
       "<Figure size 864x432 with 1 Axes>"
      ]
     },
     "metadata": {
      "needs_background": "light"
     },
     "output_type": "display_data"
    }
   ],
   "source": [
    "plt.figure(figsize=(12, 6))\n",
    "plt.title(f'Recursive Feature Elimination with Cross-Validation', fontsize=20)\n",
    "plt.xlabel('Number of features selected', fontsize=14, labelpad=20)\n",
    "plt.ylabel('% Correct Classification', fontsize=14, labelpad=20)\n",
    "plt.plot(range(1, len(rfecv.grid_scores_) + 1), rfecv.grid_scores_, 'bo-', linewidth=3)\n",
    "plt.tight_layout()\n",
    "plt.savefig(f\"../figures/Recursive Feature Elimination with Cross-Validation - {SCORING}.png\")\n",
    "plt.show()"
   ]
  },
  {
   "cell_type": "code",
   "execution_count": 26,
   "metadata": {
    "ExecuteTime": {
     "end_time": "2020-12-26T20:02:59.028626Z",
     "start_time": "2020-12-26T20:02:59.022409Z"
    },
    "hidden": true
   },
   "outputs": [],
   "source": [
    "X_train_rfe_selected = rfecv.transform(X_train_df)\n",
    "X_test_rfe_selected = rfecv.transform(X_test)"
   ]
  },
  {
   "cell_type": "code",
   "execution_count": 27,
   "metadata": {
    "ExecuteTime": {
     "end_time": "2020-12-26T20:02:59.678397Z",
     "start_time": "2020-12-26T20:02:59.031088Z"
    },
    "hidden": true
   },
   "outputs": [
    {
     "data": {
      "image/png": "[encoded data removed]",
      "text/plain": [
       "<Figure size 864x504 with 1 Axes>"
      ]
     },
     "metadata": {
      "needs_background": "light"
     },
     "output_type": "display_data"
    }
   ],
   "source": [
    "dset = pd.DataFrame()\n",
    "dset['attr'] = x.loc[:, rfecv.support_].columns\n",
    "dset['importance'] = rfecv.estimator_.feature_importances_\n",
    "\n",
    "dset = dset.sort_values(by='importance', ascending=True)\n",
    "\n",
    "\n",
    "plt.figure(figsize=(12, 7))\n",
    "plt.barh(y=dset['attr'], width=dset['importance'], color='#1976D2')\n",
    "plt.title('RFECV - Feature Importances', fontsize=20, pad=20)\n",
    "plt.xlabel('Importance', fontsize=14, labelpad=20)\n",
    "plt.tight_layout()\n",
    "plt.savefig(f\"../figures/RFECV - Feature Importances - {SCORING}.png\")\n",
    "plt.show()"
   ]
  },
  {
   "cell_type": "code",
   "execution_count": 28,
   "metadata": {
    "ExecuteTime": {
     "end_time": "2020-12-26T20:03:13.723127Z",
     "start_time": "2020-12-26T20:02:59.680800Z"
    },
    "hidden": true
   },
   "outputs": [
    {
     "name": "stdout",
     "output_type": "stream",
     "text": [
      "Naive Random Forest all features\n",
      "Mean Score: 0.8317241379310346 \n",
      "Standard Deviation : 0.06216085152686206\n"
     ]
    }
   ],
   "source": [
    "# Create a naive random forest classifier\n",
    "#clf = RandomForestClassifier(n_estimators=1000, random_state=0, n_jobs=-1)\n",
    "# Train the classifier\n",
    "cv_scores = cross_val_score(clf, X_train_rfe_selected, np.ravel(Y_train), cv=10)\n",
    "\n",
    "print(\"Naive Random Forest all features\")\n",
    "print(f\"Mean Score: {np.mean(cv_scores)} \\nStandard Deviation : {np.std(cv_scores)}\")"
   ]
  },
  {
   "cell_type": "code",
   "execution_count": 29,
   "metadata": {
    "ExecuteTime": {
     "end_time": "2020-12-26T20:03:13.739301Z",
     "start_time": "2020-12-26T20:03:13.726702Z"
    },
    "hidden": true
   },
   "outputs": [
    {
     "data": {
      "text/html": [
       "<div>\n",
       "<style scoped>\n",
       "    .dataframe tbody tr th:only-of-type {\n",
       "        vertical-align: middle;\n",
       "    }\n",
       "\n",
       "    .dataframe tbody tr th {\n",
       "        vertical-align: top;\n",
       "    }\n",
       "\n",
       "    .dataframe thead th {\n",
       "        text-align: right;\n",
       "    }\n",
       "</style>\n",
       "<table border=\"1\" class=\"dataframe\">\n",
       "  <thead>\n",
       "    <tr style=\"text-align: right;\">\n",
       "      <th></th>\n",
       "      <th># features</th>\n",
       "      <th>Mean Score</th>\n",
       "      <th>Std</th>\n",
       "    </tr>\n",
       "  </thead>\n",
       "  <tbody>\n",
       "    <tr>\n",
       "      <th>0</th>\n",
       "      <td>all</td>\n",
       "      <td>0.845557</td>\n",
       "      <td>0.018073</td>\n",
       "    </tr>\n",
       "    <tr>\n",
       "      <th>1</th>\n",
       "      <td>lasso</td>\n",
       "      <td>0.854257</td>\n",
       "      <td>0.014762</td>\n",
       "    </tr>\n",
       "    <tr>\n",
       "      <th>2</th>\n",
       "      <td>rfe</td>\n",
       "      <td>0.831724</td>\n",
       "      <td>0.062161</td>\n",
       "    </tr>\n",
       "  </tbody>\n",
       "</table>\n",
       "</div>"
      ],
      "text/plain": [
       "  # features  Mean Score       Std\n",
       "0        all    0.845557  0.018073\n",
       "1      lasso    0.854257  0.014762\n",
       "2        rfe    0.831724  0.062161"
      ]
     },
     "execution_count": 29,
     "metadata": {},
     "output_type": "execute_result"
    }
   ],
   "source": [
    "scores_df = scores_df.append({'# features':'rfe',\n",
    "               'Mean Score':np.mean(cv_scores),\n",
    "               'Std':np.std(cv_scores)}, ignore_index=True)\n",
    "scores_df.head()"
   ]
  },
  {
   "cell_type": "code",
   "execution_count": 30,
   "metadata": {
    "ExecuteTime": {
     "end_time": "2020-12-26T20:03:14.063278Z",
     "start_time": "2020-12-26T20:03:13.742013Z"
    },
    "hidden": true
   },
   "outputs": [
    {
     "data": {
      "image/png": "[encoded data removed]",
      "text/plain": [
       "<Figure size 432x288 with 1 Axes>"
      ]
     },
     "metadata": {
      "needs_background": "light"
     },
     "output_type": "display_data"
    }
   ],
   "source": [
    "plt.errorbar(scores_df['# features'], scores_df['Mean Score'], yerr=scores_df['Std'], fmt=\"o:\")\n",
    "plt.title('Feature Selection Strategy Comparison')\n",
    "plt.ylabel(f'{SCORING}')\n",
    "plt.tight_layout()\n",
    "plt.savefig(f\"../figures/Feature Selection Strategy Comparison - {SCORING}.png\")\n",
    "plt.show()"
   ]
  },
  {
   "cell_type": "markdown",
   "metadata": {},
   "source": [
    "## Modeling"
   ]
  },
  {
   "cell_type": "code",
   "execution_count": 31,
   "metadata": {
    "ExecuteTime": {
     "end_time": "2020-12-26T20:03:14.071653Z",
     "start_time": "2020-12-26T20:03:14.065548Z"
    }
   },
   "outputs": [],
   "source": [
    "# Let's use the result of the Lasso\n",
    "X_train = X_train_lasso_selected.copy()\n",
    "#np.ravel(Y_train)\n",
    "X_test = X_test_lasso_selected.copy()\n",
    "y_test = Y_test.copy()"
   ]
  },
  {
   "cell_type": "markdown",
   "metadata": {},
   "source": [
    "### Bayesian Search CV: XGB and RF compared"
   ]
  },
  {
   "cell_type": "markdown",
   "metadata": {},
   "source": [
    "#### Xtreme Gradient Boosting"
   ]
  },
  {
   "cell_type": "code",
   "execution_count": 32,
   "metadata": {
    "ExecuteTime": {
     "end_time": "2020-12-26T20:03:14.156029Z",
     "start_time": "2020-12-26T20:03:14.074292Z"
    }
   },
   "outputs": [],
   "source": [
    "base_filename='XtremeGradientBoosting'"
   ]
  },
  {
   "cell_type": "code",
   "execution_count": 33,
   "metadata": {
    "ExecuteTime": {
     "end_time": "2020-12-26T20:04:28.987215Z",
     "start_time": "2020-12-26T20:03:14.163232Z"
    },
    "scrolled": true
   },
   "outputs": [
    {
     "name": "stdout",
     "output_type": "stream",
     "text": [
      "Searching best parameters for XGBClassifier(base_score=None, booster=None, colsample_bylevel=None,\n",
      "              colsample_bynode=None, colsample_bytree=None, gamma=None,\n",
      "              gpu_id=None, importance_type='gain', interaction_constraints=None,\n",
      "              learning_rate=None, max_delta_step=None, max_depth=None,\n",
      "              min_child_weight=None, missing=nan, monotone_constraints=None,\n",
      "              n_estimators=100, n_jobs=None, num_parallel_tree=None,\n",
      "              random_state=None, reg_alpha=None, reg_lambda=None,\n",
      "              scale_pos_weight=None, subsample=None, tree_method=None,\n",
      "              validate_parameters=None, verbosity=None)\n",
      "Start Time : 2020-12-26 12:03:14.251603\n",
      "Start Time : 2020-12-26 12:03:14.251678\n"
     ]
    },
    {
     "name": "stderr",
     "output_type": "stream",
     "text": [
      "/home/andrea/anaconda3/envs/student-fail-prediction/lib/python3.8/site-packages/xgboost/sklearn.py:888: UserWarning: The use of label encoder in XGBClassifier is deprecated and will be removed in a future release. To remove this warning, do the following: 1) Pass option use_label_encoder=False when constructing XGBClassifier object; and 2) Encode your labels (y) as integers starting with 0, i.e. 0, 1, 2, ..., [num_class - 1].\n",
      "  warnings.warn(label_encoder_deprecation_msg, UserWarning)\n",
      "/home/andrea/anaconda3/envs/student-fail-prediction/lib/python3.8/site-packages/sklearn/utils/validation.py:72: DataConversionWarning: A column-vector y was passed when a 1d array was expected. Please change the shape of y to (n_samples, ), for example using ravel().\n",
      "  return f(**kwargs)\n"
     ]
    },
    {
     "name": "stdout",
     "output_type": "stream",
     "text": [
      "[12:04:28] WARNING: /home/conda/feedstock_root/build_artifacts/xgboost_1607604574104/work/src/learner.cc:1061: Starting in XGBoost 1.3.0, the default evaluation metric used with the objective 'binary:logistic' was changed from 'error' to 'logloss'. Explicitly set eval_metric if you'd like to restore the old behavior.\n",
      "End Time : 2020-12-26 12:04:28.519002\n",
      "../models/XtremeGradientBoosting_precision.pkl\n",
      "|----Best Score:0.8626472743672136\n",
      "|----Best Parameters: OrderedDict([('gamma', 0), ('learning_rate', 0.6199336860009504), ('max_depth', 9), ('n_estimators', 940), ('subsample', 0.8897197108374668)])\n"
     ]
    },
    {
     "data": {
      "image/png": "[encoded data removed]",
      "text/plain": [
       "<Figure size 432x432 with 2 Axes>"
      ]
     },
     "metadata": {
      "needs_background": "light"
     },
     "output_type": "display_data"
    }
   ],
   "source": [
    "# train XGB\n",
    "pkl_filename = f\"../models/{base_filename}_{SCORING}.pkl\"\n",
    "try :\n",
    "    # Load Model\n",
    "    xgb_opt = pickle.load(open(pkl_filename, 'rb'))\n",
    "\n",
    "except :\n",
    "    # Train Model\n",
    "    param_grid = {'learning_rate':Real(1e-2,1e+0,prior='log-uniform'),\n",
    "                'n_estimators':Integer(100,1000,prior='uniform'),\n",
    "                'max_depth':Integer(3,10,prior='uniform'),\n",
    "                'subsample':Real(0.8,1.0,prior='uniform'),\n",
    "                'gamma':Integer(0,5,prior='uniform')}\n",
    "\n",
    "    model = XGBClassifier()\n",
    "    print(\"Searching best parameters for \"+ str(model))\n",
    "    print(\"Start Time : \"+ str(datetime.now()))\n",
    "    xgb_opt = BayesSearchCV(estimator=model,\n",
    "                         search_spaces=param_grid,\n",
    "                         scoring=SCORING,\n",
    "                         n_jobs=-1,\n",
    "                         n_iter=N_ITER,\n",
    "                         n_points=N_POINTS,\n",
    "                         random_state=0,\n",
    "                         cv=CV_FOLDS,\n",
    "                         verbose=0,\n",
    "                         refit=True,\n",
    "                         return_train_score = True)\n",
    "    # perform bayesian optimization\n",
    "    print(\"Start Time : \"+ str(datetime.now()))\n",
    "    xgb_opt.fit(X_train, Y_train)\n",
    "    print(\"End Time : \"+ str(datetime.now()))\n",
    "    # Save model\n",
    "    with open(pkl_filename, 'wb') as file:\n",
    "        pickle.dump(xgb_opt, file)\n",
    "    \n",
    "print(pkl_filename)\n",
    "print(\"|----Best Score:\" + str(xgb_opt.best_score_))\n",
    "print(\"|----Best Parameters: \" + str(xgb_opt.best_params_))\n",
    "\n",
    "\n",
    "# XGB\n",
    "# confusion matrix\n",
    "Y_pred = xgb_opt.predict(X_test)\n",
    "_ = plot_multiclass_confusion_matrix(Y_test, Y_pred, ['fail','pass'])\n",
    "plt.tight_layout()\n",
    "plt.savefig(f\"../figures/{base_filename}_{SCORING} - Confusion Matrix predict.png\")"
   ]
  },
  {
   "cell_type": "code",
   "execution_count": 34,
   "metadata": {
    "ExecuteTime": {
     "end_time": "2020-12-26T20:04:29.432614Z",
     "start_time": "2020-12-26T20:04:28.989255Z"
    }
   },
   "outputs": [
    {
     "name": "stdout",
     "output_type": "stream",
     "text": [
      "AUC_ROC = 0.66\n",
      "Optimal threshold = 0.8488046526908875\n"
     ]
    },
    {
     "data": {
      "image/png": "[encoded data removed]",
      "text/plain": [
       "<Figure size 432x432 with 2 Axes>"
      ]
     },
     "metadata": {},
     "output_type": "display_data"
    }
   ],
   "source": [
    "# predict probabilities\n",
    "probs_xgb = xgb_opt.predict_proba(X_test)\n",
    "# calculate the fpr and tpr for all thresholds of the classification\n",
    "preds_xgb = probs_xgb[:, 1]\n",
    "fpr_xgb, tpr_xgb, threshold_xgb = metrics.roc_curve(Y_test, preds_xgb)\n",
    "roc_auc_xgb = metrics.auc(fpr_xgb,tpr_xgb)\n",
    "print(f'AUC_ROC = {round(roc_auc_xgb,4)}')\n",
    "# find optimal threshold\n",
    "t = threshold_xgb[np.argmax(tpr_xgb - fpr_xgb)]\n",
    "print(f'Optimal threshold = {t}')\n",
    "Y_pred = (probs_xgb[:, 1] >= t).astype(int)\n",
    "_ = plot_multiclass_confusion_matrix(Y_test, Y_pred, ['fail','pass'])\n",
    "plt.tight_layout()\n",
    "plt.savefig(f\"../figures/{base_filename}_{SCORING} - Confusion Matrix predict_proba.png\")"
   ]
  },
  {
   "cell_type": "markdown",
   "metadata": {},
   "source": [
    "#### Random Forest"
   ]
  },
  {
   "cell_type": "code",
   "execution_count": 35,
   "metadata": {
    "ExecuteTime": {
     "end_time": "2020-12-26T20:04:29.439098Z",
     "start_time": "2020-12-26T20:04:29.435147Z"
    }
   },
   "outputs": [],
   "source": [
    "base_filename='RandomForestClassifier_'"
   ]
  },
  {
   "cell_type": "code",
   "execution_count": 36,
   "metadata": {
    "ExecuteTime": {
     "end_time": "2020-12-26T20:04:41.512191Z",
     "start_time": "2020-12-26T20:04:29.441567Z"
    },
    "scrolled": true
   },
   "outputs": [
    {
     "name": "stdout",
     "output_type": "stream",
     "text": [
      "Searching best parameters for RandomForestClassifier()\n",
      "Start Time : 2020-12-26 12:04:29.510872\n",
      "Start Time : 2020-12-26 12:04:29.511503\n"
     ]
    },
    {
     "name": "stderr",
     "output_type": "stream",
     "text": [
      "/home/andrea/anaconda3/envs/student-fail-prediction/lib/python3.8/site-packages/skopt/searchcv.py:529: DataConversionWarning: A column-vector y was passed when a 1d array was expected. Please change the shape of y to (n_samples,), for example using ravel().\n",
      "  self.best_estimator_.fit(X, y, **(self.fit_params or {}))\n"
     ]
    },
    {
     "name": "stdout",
     "output_type": "stream",
     "text": [
      "End Time : 2020-12-26 12:04:41.104250\n",
      "../models/RandomForestClassifier__precision.pkl\n",
      "|----Best Score:0.9047453703703704\n",
      "|----Best Parameters: OrderedDict([('class_weight', 'balanced'), ('max_depth', 3), ('min_samples_leaf', 4), ('min_samples_split', 4), ('n_estimators', 316)])\n"
     ]
    },
    {
     "data": {
      "image/png": "[encoded data removed]",
      "text/plain": [
       "<Figure size 432x432 with 2 Axes>"
      ]
     },
     "metadata": {},
     "output_type": "display_data"
    }
   ],
   "source": [
    "# train RF\n",
    "pkl_filename = f\"../models/{base_filename}_{SCORING}.pkl\"\n",
    "try :\n",
    "    # Load Model\n",
    "    rf_opt = pickle.load(open(pkl_filename, 'rb'))\n",
    "\n",
    "except :\n",
    "    # Train Model\n",
    "    param_grid = {'n_estimators':Integer(100,1000,prior='uniform'),\n",
    "                'max_depth':Integer(3,10,prior='uniform'),\n",
    "                'min_samples_split':Integer(2,10,prior='uniform'),\n",
    "                'min_samples_leaf':Integer(1,10,prior='uniform'),  \n",
    "                'class_weight':Categorical(['balanced'])}\n",
    "\n",
    "    model = RandomForestClassifier()\n",
    "    print(\"Searching best parameters for \"+ str(model))\n",
    "    print(\"Start Time : \"+ str(datetime.now()))\n",
    "    rf_opt = BayesSearchCV(estimator=model,\n",
    "                         search_spaces=param_grid,\n",
    "                         scoring=SCORING,\n",
    "                         n_jobs=-1,\n",
    "                         n_iter=N_ITER,\n",
    "                         n_points=N_POINTS,\n",
    "                         random_state=0,\n",
    "                         cv=CV_FOLDS,\n",
    "                         verbose=0,\n",
    "                         refit=True,\n",
    "                         return_train_score = True)\n",
    "    # perform bayesian optimization\n",
    "    print(\"Start Time : \"+ str(datetime.now()))\n",
    "    rf_opt.fit(X_train, Y_train)\n",
    "    print(\"End Time : \"+ str(datetime.now()))\n",
    "    # Save model\n",
    "    with open(pkl_filename, 'wb') as file:\n",
    "        pickle.dump(rf_opt, file)\n",
    "    \n",
    "print(pkl_filename)\n",
    "print(\"|----Best Score:\" + str(rf_opt.best_score_))\n",
    "print(\"|----Best Parameters: \" + str(rf_opt.best_params_))\n",
    "\n",
    "# RF\n",
    "# confusion matrix\n",
    "Y_pred = rf_opt.predict(X_test)\n",
    "_ = plot_multiclass_confusion_matrix(Y_test, Y_pred, ['fail','pass'])\n",
    "plt.tight_layout()\n",
    "plt.savefig(f\"../figures/{base_filename}_{SCORING} - Confusion Matrix predict.png\")"
   ]
  },
  {
   "cell_type": "code",
   "execution_count": 37,
   "metadata": {
    "ExecuteTime": {
     "end_time": "2020-12-26T20:04:41.882378Z",
     "start_time": "2020-12-26T20:04:41.514772Z"
    }
   },
   "outputs": [
    {
     "name": "stdout",
     "output_type": "stream",
     "text": [
      "AUC_ROC = 0.7602\n",
      "Optimal threshold = 0.5432472024963989\n"
     ]
    },
    {
     "data": {
      "image/png": "[encoded data removed]",
      "text/plain": [
       "<Figure size 432x432 with 2 Axes>"
      ]
     },
     "metadata": {},
     "output_type": "display_data"
    }
   ],
   "source": [
    "# predict probabilities\n",
    "probs_rf = rf_opt.predict_proba(X_test)\n",
    "# calculate the fpr and tpr for all thresholds of the classification\n",
    "preds_rf = probs_rf[:, 1]\n",
    "fpr_rf, tpr_rf, threshold_rf = metrics.roc_curve(Y_test, preds_rf)\n",
    "roc_auc_rf = metrics.auc(fpr_rf,tpr_rf)\n",
    "print(f'AUC_ROC = {round(roc_auc_rf,4)}')\n",
    "# find optimal threshold\n",
    "t = threshold_rf[np.argmax(tpr_rf - fpr_rf)]\n",
    "print(f'Optimal threshold = {t}')\n",
    "Y_pred = (probs_xgb[:, 1] >= t).astype(int)\n",
    "plot_multiclass_confusion_matrix(Y_test, Y_pred, ['fail','pass'])\n",
    "plt.tight_layout()\n",
    "plt.savefig(f\"../figures/{base_filename}_{SCORING} - Confusion Matrix predict_proba.png\")"
   ]
  },
  {
   "cell_type": "markdown",
   "metadata": {},
   "source": [
    "### Comparing ROC - AUC"
   ]
  },
  {
   "cell_type": "code",
   "execution_count": 38,
   "metadata": {
    "ExecuteTime": {
     "end_time": "2020-12-26T20:04:42.242669Z",
     "start_time": "2020-12-26T20:04:41.885152Z"
    }
   },
   "outputs": [
    {
     "data": {
      "image/png": "[encoded data removed]",
      "text/plain": [
       "<Figure size 432x288 with 1 Axes>"
      ]
     },
     "metadata": {},
     "output_type": "display_data"
    }
   ],
   "source": [
    "plt.title('Receiver Operating Characteristic')\n",
    "plt.plot(fpr_rf, tpr_rf, 'g', label = f'RF - AUC = {round(roc_auc_rf,3)}')\n",
    "plt.plot(fpr_xgb, tpr_xgb, 'b', label = f'XGB - AUC = {round(roc_auc_xgb,3)}')\n",
    "plt.plot([0, 1], [0, 1],'k:', label='No Skill')\n",
    "plt.legend(loc = 'lower right')\n",
    "plt.xlim([0, 1])\n",
    "plt.ylim([0, 1])\n",
    "plt.ylabel('True Positive Rate')\n",
    "plt.xlabel('False Positive Rate')\n",
    "\n",
    "plt.tight_layout()\n",
    "plt.savefig(f\"../figures/Comparison ROC - {SCORING}.png\")\n",
    "plt.show()"
   ]
  },
  {
   "cell_type": "markdown",
   "metadata": {},
   "source": [
    "## Model Selection"
   ]
  },
  {
   "cell_type": "code",
   "execution_count": 39,
   "metadata": {
    "ExecuteTime": {
     "end_time": "2020-12-26T20:04:42.357704Z",
     "start_time": "2020-12-26T20:04:42.245899Z"
    }
   },
   "outputs": [
    {
     "name": "stdout",
     "output_type": "stream",
     "text": [
      "Filename : ../models/RandomForestClassifier__precision.pkl\n",
      "Model type : <class 'sklearn.ensemble._forest.RandomForestClassifier'>\n",
      "Model Parameters : OrderedDict([('class_weight', 'balanced'), ('max_depth', 3), ('min_samples_leaf', 4), ('min_samples_split', 4), ('n_estimators', 316)])\n",
      "CV Score : 0.9047453703703704\n",
      "Test Score : 0.8352941176470589\n"
     ]
    }
   ],
   "source": [
    "filename = '../models/RandomForestClassifier__precision.pkl'\n",
    "model = pickle.load(open('../models/RandomForestClassifier__precision.pkl', 'rb'))\n",
    "print(f'Filename : {filename}')\n",
    "print(f'Model type : {type(model.estimator)}')\n",
    "print(f'Model Parameters : {model.best_params_}')\n",
    "print(f'CV Score : {model.best_score_}')\n",
    "print(f'Test Score : {model.score(X_test, Y_test)}')\n",
    "\n",
    "with open(\"../models/Model Summary.txt\", \"w\") as f:\n",
    "    print(f'Filename : {filename}', file=f)\n",
    "    print(f'Model type : {type(model.estimator)}', file=f)\n",
    "    print(f'Model Parameters : {model.best_params_}', file=f)\n",
    "    print(f'CV Score : {model.best_score_}', file=f)\n",
    "    print(f'Test Score : {model.score(X_test, Y_test)}', file=f)"
   ]
  },
  {
   "cell_type": "code",
   "execution_count": null,
   "metadata": {},
   "outputs": [],
   "source": []
  }
 ],
 "metadata": {
  "kernelspec": {
   "display_name": "Python [conda env:student-fail-prediction]",
   "language": "python",
   "name": "conda-env-student-fail-prediction-py"
  },
  "language_info": {
   "codemirror_mode": {
    "name": "ipython",
    "version": 3
   },
   "file_extension": ".py",
   "mimetype": "text/x-python",
   "name": "python",
   "nbconvert_exporter": "python",
   "pygments_lexer": "ipython3",
   "version": "3.8.6"
  },
  "varInspector": {
   "cols": {
    "lenName": 16,
    "lenType": 16,
    "lenVar": 40
   },
   "kernels_config": {
    "python": {
     "delete_cmd_postfix": "",
     "delete_cmd_prefix": "del ",
     "library": "var_list.py",
     "varRefreshCmd": "print(var_dic_list())"
    },
    "r": {
     "delete_cmd_postfix": ") ",
     "delete_cmd_prefix": "rm(",
     "library": "var_list.r",
     "varRefreshCmd": "cat(var_dic_list()) "
    }
   },
   "types_to_exclude": [
    "module",
    "function",
    "builtin_function_or_method",
    "instance",
    "_Feature"
   ],
   "window_display": false
  }
 },
 "nbformat": 4,
 "nbformat_minor": 4
}
