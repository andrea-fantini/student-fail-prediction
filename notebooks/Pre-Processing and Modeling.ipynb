{
 "cells": [
  {
   "cell_type": "markdown",
   "metadata": {},
   "source": [
    "# Data Pre-Processing"
   ]
  },
  {
   "cell_type": "code",
   "execution_count": 1,
   "metadata": {
    "ExecuteTime": {
     "end_time": "2020-12-21T08:58:45.496351Z",
     "start_time": "2020-12-21T08:58:44.943194Z"
    }
   },
   "outputs": [],
   "source": [
    "import pandas as pd\n",
    "import numpy as np\n",
    "import matplotlib.pyplot as plt"
   ]
  },
  {
   "cell_type": "code",
   "execution_count": 2,
   "metadata": {
    "ExecuteTime": {
     "end_time": "2020-12-21T08:58:45.515810Z",
     "start_time": "2020-12-21T08:58:45.499637Z"
    },
    "code_folding": []
   },
   "outputs": [],
   "source": [
    "with open('../data/features.csv') as f1:\n",
    "    df = pd.read_csv(f1)\n",
    "\n",
    "with open('../data/outcomes.csv') as f2:\n",
    "    outcomes = pd.read_csv(f2, usecols=['student_id', 'outcome'])\n",
    "                           \n",
    "df = pd.merge(df, outcomes, on='student_id')\n",
    " \n",
    "\n",
    "df.drop(['Unnamed: 0', 'course_id'], axis='columns', inplace=True)\n",
    "labels = ['fail', 'pass']\n",
    "target_variable_name = 'outcome'\n",
    "df.dropna(axis='index', how='any', subset=['outcome'], inplace=True)\n",
    "df.outcome = df.outcome.astype(int)"
   ]
  },
  {
   "cell_type": "code",
   "execution_count": 3,
   "metadata": {
    "ExecuteTime": {
     "end_time": "2020-12-21T08:58:45.629781Z",
     "start_time": "2020-12-21T08:58:45.517992Z"
    }
   },
   "outputs": [
    {
     "data": {
      "text/html": [
       "<div>\n",
       "<style scoped>\n",
       "    .dataframe tbody tr th:only-of-type {\n",
       "        vertical-align: middle;\n",
       "    }\n",
       "\n",
       "    .dataframe tbody tr th {\n",
       "        vertical-align: top;\n",
       "    }\n",
       "\n",
       "    .dataframe thead th {\n",
       "        text-align: right;\n",
       "    }\n",
       "</style>\n",
       "<table border=\"1\" class=\"dataframe\">\n",
       "  <thead>\n",
       "    <tr style=\"text-align: right;\">\n",
       "      <th></th>\n",
       "      <th>student_id</th>\n",
       "      <th>tot_page_views</th>\n",
       "      <th>average_daily_views</th>\n",
       "      <th>median_daily_views</th>\n",
       "      <th>max_daily_views</th>\n",
       "      <th>days_with_views</th>\n",
       "      <th>hours_with_views</th>\n",
       "      <th>max_views_per_hour</th>\n",
       "      <th>avg_views_per_hour</th>\n",
       "      <th>median_views_per_hour</th>\n",
       "      <th>avg_hours_with_views_per_day</th>\n",
       "      <th>max_hours_with_views_per_day</th>\n",
       "      <th>median_hours_with_views_per_day</th>\n",
       "      <th>tot_participations</th>\n",
       "      <th>average_daily_participations</th>\n",
       "      <th>median_daily_participations</th>\n",
       "      <th>max_daily_participations</th>\n",
       "      <th>days_with_participations</th>\n",
       "      <th>outcome</th>\n",
       "    </tr>\n",
       "  </thead>\n",
       "  <tbody>\n",
       "    <tr>\n",
       "      <th>0</th>\n",
       "      <td>47649</td>\n",
       "      <td>1153</td>\n",
       "      <td>22.607843</td>\n",
       "      <td>16.0</td>\n",
       "      <td>118.0</td>\n",
       "      <td>51</td>\n",
       "      <td>71</td>\n",
       "      <td>88.0</td>\n",
       "      <td>16.239437</td>\n",
       "      <td>15.0</td>\n",
       "      <td>1.392157</td>\n",
       "      <td>1.392157</td>\n",
       "      <td>1.0</td>\n",
       "      <td>23</td>\n",
       "      <td>0.460000</td>\n",
       "      <td>0.0</td>\n",
       "      <td>4.0</td>\n",
       "      <td>50</td>\n",
       "      <td>True</td>\n",
       "    </tr>\n",
       "    <tr>\n",
       "      <th>1</th>\n",
       "      <td>52263</td>\n",
       "      <td>744</td>\n",
       "      <td>15.183673</td>\n",
       "      <td>0.0</td>\n",
       "      <td>93.0</td>\n",
       "      <td>49</td>\n",
       "      <td>67</td>\n",
       "      <td>48.0</td>\n",
       "      <td>11.104478</td>\n",
       "      <td>8.0</td>\n",
       "      <td>1.367347</td>\n",
       "      <td>1.367347</td>\n",
       "      <td>0.0</td>\n",
       "      <td>20</td>\n",
       "      <td>0.434783</td>\n",
       "      <td>0.0</td>\n",
       "      <td>3.0</td>\n",
       "      <td>46</td>\n",
       "      <td>True</td>\n",
       "    </tr>\n",
       "    <tr>\n",
       "      <th>2</th>\n",
       "      <td>24036</td>\n",
       "      <td>341</td>\n",
       "      <td>6.686275</td>\n",
       "      <td>0.0</td>\n",
       "      <td>80.0</td>\n",
       "      <td>51</td>\n",
       "      <td>27</td>\n",
       "      <td>48.0</td>\n",
       "      <td>12.629630</td>\n",
       "      <td>11.0</td>\n",
       "      <td>0.529412</td>\n",
       "      <td>0.529412</td>\n",
       "      <td>0.0</td>\n",
       "      <td>15</td>\n",
       "      <td>0.333333</td>\n",
       "      <td>0.0</td>\n",
       "      <td>3.0</td>\n",
       "      <td>45</td>\n",
       "      <td>True</td>\n",
       "    </tr>\n",
       "    <tr>\n",
       "      <th>3</th>\n",
       "      <td>52137</td>\n",
       "      <td>237</td>\n",
       "      <td>5.042553</td>\n",
       "      <td>0.0</td>\n",
       "      <td>68.0</td>\n",
       "      <td>47</td>\n",
       "      <td>19</td>\n",
       "      <td>32.0</td>\n",
       "      <td>12.473684</td>\n",
       "      <td>9.0</td>\n",
       "      <td>0.404255</td>\n",
       "      <td>0.404255</td>\n",
       "      <td>0.0</td>\n",
       "      <td>6</td>\n",
       "      <td>0.187500</td>\n",
       "      <td>0.0</td>\n",
       "      <td>3.0</td>\n",
       "      <td>32</td>\n",
       "      <td>True</td>\n",
       "    </tr>\n",
       "    <tr>\n",
       "      <th>4</th>\n",
       "      <td>52267</td>\n",
       "      <td>665</td>\n",
       "      <td>13.300000</td>\n",
       "      <td>0.0</td>\n",
       "      <td>161.0</td>\n",
       "      <td>50</td>\n",
       "      <td>42</td>\n",
       "      <td>118.0</td>\n",
       "      <td>15.833333</td>\n",
       "      <td>8.0</td>\n",
       "      <td>0.840000</td>\n",
       "      <td>0.840000</td>\n",
       "      <td>0.0</td>\n",
       "      <td>26</td>\n",
       "      <td>0.520000</td>\n",
       "      <td>0.0</td>\n",
       "      <td>5.0</td>\n",
       "      <td>50</td>\n",
       "      <td>True</td>\n",
       "    </tr>\n",
       "  </tbody>\n",
       "</table>\n",
       "</div>"
      ],
      "text/plain": [
       "   student_id  tot_page_views  average_daily_views  median_daily_views  \\\n",
       "0       47649            1153            22.607843                16.0   \n",
       "1       52263             744            15.183673                 0.0   \n",
       "2       24036             341             6.686275                 0.0   \n",
       "3       52137             237             5.042553                 0.0   \n",
       "4       52267             665            13.300000                 0.0   \n",
       "\n",
       "   max_daily_views  days_with_views  hours_with_views  max_views_per_hour  \\\n",
       "0            118.0               51                71                88.0   \n",
       "1             93.0               49                67                48.0   \n",
       "2             80.0               51                27                48.0   \n",
       "3             68.0               47                19                32.0   \n",
       "4            161.0               50                42               118.0   \n",
       "\n",
       "   avg_views_per_hour  median_views_per_hour  avg_hours_with_views_per_day  \\\n",
       "0           16.239437                   15.0                      1.392157   \n",
       "1           11.104478                    8.0                      1.367347   \n",
       "2           12.629630                   11.0                      0.529412   \n",
       "3           12.473684                    9.0                      0.404255   \n",
       "4           15.833333                    8.0                      0.840000   \n",
       "\n",
       "   max_hours_with_views_per_day  median_hours_with_views_per_day  \\\n",
       "0                      1.392157                              1.0   \n",
       "1                      1.367347                              0.0   \n",
       "2                      0.529412                              0.0   \n",
       "3                      0.404255                              0.0   \n",
       "4                      0.840000                              0.0   \n",
       "\n",
       "   tot_participations  average_daily_participations  \\\n",
       "0                  23                      0.460000   \n",
       "1                  20                      0.434783   \n",
       "2                  15                      0.333333   \n",
       "3                   6                      0.187500   \n",
       "4                  26                      0.520000   \n",
       "\n",
       "   median_daily_participations  max_daily_participations  \\\n",
       "0                          0.0                       4.0   \n",
       "1                          0.0                       3.0   \n",
       "2                          0.0                       3.0   \n",
       "3                          0.0                       3.0   \n",
       "4                          0.0                       5.0   \n",
       "\n",
       "   days_with_participations outcome  \n",
       "0                        50    True  \n",
       "1                        46    True  \n",
       "2                        45    True  \n",
       "3                        32    True  \n",
       "4                        50    True  "
      ]
     },
     "execution_count": 3,
     "metadata": {},
     "output_type": "execute_result"
    }
   ],
   "source": [
    "df.head()"
   ]
  },
  {
   "cell_type": "markdown",
   "metadata": {},
   "source": [
    "## Missing Values\n",
    "\n",
    "Since there are only a few missing values we can simply discard them"
   ]
  },
  {
   "cell_type": "code",
   "execution_count": 4,
   "metadata": {
    "ExecuteTime": {
     "end_time": "2020-12-21T08:58:45.725996Z",
     "start_time": "2020-12-21T08:58:45.631909Z"
    }
   },
   "outputs": [
    {
     "name": "stdout",
     "output_type": "stream",
     "text": [
      "<class 'pandas.core.frame.DataFrame'>\n",
      "Int64Index: 425 entries, 0 to 424\n",
      "Data columns (total 19 columns):\n",
      " #   Column                           Non-Null Count  Dtype  \n",
      "---  ------                           --------------  -----  \n",
      " 0   student_id                       425 non-null    int64  \n",
      " 1   tot_page_views                   425 non-null    int64  \n",
      " 2   average_daily_views              422 non-null    float64\n",
      " 3   median_daily_views               422 non-null    float64\n",
      " 4   max_daily_views                  422 non-null    float64\n",
      " 5   days_with_views                  425 non-null    int64  \n",
      " 6   hours_with_views                 425 non-null    int64  \n",
      " 7   max_views_per_hour               422 non-null    float64\n",
      " 8   avg_views_per_hour               422 non-null    float64\n",
      " 9   median_views_per_hour            422 non-null    float64\n",
      " 10  avg_hours_with_views_per_day     422 non-null    float64\n",
      " 11  max_hours_with_views_per_day     422 non-null    float64\n",
      " 12  median_hours_with_views_per_day  422 non-null    float64\n",
      " 13  tot_participations               425 non-null    int64  \n",
      " 14  average_daily_participations     420 non-null    float64\n",
      " 15  median_daily_participations      420 non-null    float64\n",
      " 16  max_daily_participations         420 non-null    float64\n",
      " 17  days_with_participations         425 non-null    int64  \n",
      " 18  outcome                          422 non-null    object \n",
      "dtypes: float64(12), int64(6), object(1)\n",
      "memory usage: 66.4+ KB\n"
     ]
    }
   ],
   "source": [
    "df.info()"
   ]
  },
  {
   "cell_type": "code",
   "execution_count": 5,
   "metadata": {
    "ExecuteTime": {
     "end_time": "2020-12-21T08:58:45.830539Z",
     "start_time": "2020-12-21T08:58:45.731083Z"
    }
   },
   "outputs": [],
   "source": [
    "df.dropna(axis='index', how='any', inplace=True)"
   ]
  },
  {
   "cell_type": "code",
   "execution_count": 6,
   "metadata": {
    "ExecuteTime": {
     "end_time": "2020-12-21T08:58:45.935875Z",
     "start_time": "2020-12-21T08:58:45.833246Z"
    }
   },
   "outputs": [
    {
     "name": "stdout",
     "output_type": "stream",
     "text": [
      "<class 'pandas.core.frame.DataFrame'>\n",
      "Int64Index: 416 entries, 0 to 424\n",
      "Data columns (total 19 columns):\n",
      " #   Column                           Non-Null Count  Dtype  \n",
      "---  ------                           --------------  -----  \n",
      " 0   student_id                       416 non-null    int64  \n",
      " 1   tot_page_views                   416 non-null    int64  \n",
      " 2   average_daily_views              416 non-null    float64\n",
      " 3   median_daily_views               416 non-null    float64\n",
      " 4   max_daily_views                  416 non-null    float64\n",
      " 5   days_with_views                  416 non-null    int64  \n",
      " 6   hours_with_views                 416 non-null    int64  \n",
      " 7   max_views_per_hour               416 non-null    float64\n",
      " 8   avg_views_per_hour               416 non-null    float64\n",
      " 9   median_views_per_hour            416 non-null    float64\n",
      " 10  avg_hours_with_views_per_day     416 non-null    float64\n",
      " 11  max_hours_with_views_per_day     416 non-null    float64\n",
      " 12  median_hours_with_views_per_day  416 non-null    float64\n",
      " 13  tot_participations               416 non-null    int64  \n",
      " 14  average_daily_participations     416 non-null    float64\n",
      " 15  median_daily_participations      416 non-null    float64\n",
      " 16  max_daily_participations         416 non-null    float64\n",
      " 17  days_with_participations         416 non-null    int64  \n",
      " 18  outcome                          416 non-null    object \n",
      "dtypes: float64(12), int64(6), object(1)\n",
      "memory usage: 65.0+ KB\n"
     ]
    }
   ],
   "source": [
    "df.info()"
   ]
  },
  {
   "cell_type": "markdown",
   "metadata": {},
   "source": [
    "## Feature Selection\n"
   ]
  },
  {
   "cell_type": "code",
   "execution_count": 7,
   "metadata": {
    "ExecuteTime": {
     "end_time": "2020-12-21T08:58:46.403199Z",
     "start_time": "2020-12-21T08:58:45.944083Z"
    }
   },
   "outputs": [],
   "source": [
    "from sklearn.preprocessing import MinMaxScaler\n",
    "from sklearn.model_selection import train_test_split, cross_val_score, StratifiedKFold\n",
    "from sklearn.linear_model import LogisticRegression\n",
    "from sklearn.feature_selection import SelectFromModel, RFECV\n",
    "from sklearn.ensemble import RandomForestClassifier\n",
    "from sklearn.metrics import accuracy_score"
   ]
  },
  {
   "cell_type": "code",
   "execution_count": 8,
   "metadata": {
    "ExecuteTime": {
     "end_time": "2020-12-21T08:58:46.410271Z",
     "start_time": "2020-12-21T08:58:46.406121Z"
    }
   },
   "outputs": [],
   "source": [
    "x = df.drop(['student_id','outcome'], axis='columns')\n",
    "y = df['outcome'].values.reshape(-1,1)"
   ]
  },
  {
   "cell_type": "code",
   "execution_count": 9,
   "metadata": {
    "ExecuteTime": {
     "end_time": "2020-12-21T08:58:46.526909Z",
     "start_time": "2020-12-21T08:58:46.412654Z"
    }
   },
   "outputs": [
    {
     "data": {
      "text/plain": [
       "((416, 17), (416, 1))"
      ]
     },
     "execution_count": 9,
     "metadata": {},
     "output_type": "execute_result"
    }
   ],
   "source": [
    "x.shape, y.shape"
   ]
  },
  {
   "cell_type": "code",
   "execution_count": 10,
   "metadata": {
    "ExecuteTime": {
     "end_time": "2020-12-21T08:58:46.625255Z",
     "start_time": "2020-12-21T08:58:46.530320Z"
    }
   },
   "outputs": [
    {
     "data": {
      "text/plain": [
       "((291, 17), (125, 17))"
      ]
     },
     "execution_count": 10,
     "metadata": {},
     "output_type": "execute_result"
    }
   ],
   "source": [
    "Min_Max = MinMaxScaler()\n",
    "X = Min_Max.fit_transform(x)\n",
    "Y= Min_Max.fit_transform(y)\n",
    "# Split the data into test and training\n",
    "X_train, X_test, Y_train, Y_test = train_test_split(X, Y, test_size=0.3, random_state=0)\n",
    "\n",
    "X_train.shape, X_test.shape"
   ]
  },
  {
   "cell_type": "code",
   "execution_count": 11,
   "metadata": {
    "ExecuteTime": {
     "end_time": "2020-12-21T08:59:02.313739Z",
     "start_time": "2020-12-21T08:58:46.627962Z"
    },
    "scrolled": true
   },
   "outputs": [
    {
     "name": "stdout",
     "output_type": "stream",
     "text": [
      "Naive Random Forest all features\n",
      "Mean Accuracy: 0.8213793103448277 \n",
      "Standard Deviation : 0.052653715852762434\n"
     ]
    }
   ],
   "source": [
    "scores_df = pd.DataFrame()\n",
    "# Create a naive random forest classifier\n",
    "clf = RandomForestClassifier(n_estimators=1000, random_state=0, n_jobs=-1)\n",
    "# Train the classifier\n",
    "cv_scores = cross_val_score(clf, X_train,np.ravel(Y_train), cv=10)\n",
    "\n",
    "print(\"Naive Random Forest all features\")\n",
    "print(f\"Mean Accuracy: {np.mean(cv_scores)} \\nStandard Deviation : {np.std(cv_scores)}\")"
   ]
  },
  {
   "cell_type": "code",
   "execution_count": 12,
   "metadata": {
    "ExecuteTime": {
     "end_time": "2020-12-21T08:59:02.325551Z",
     "start_time": "2020-12-21T08:59:02.316126Z"
    }
   },
   "outputs": [],
   "source": [
    "scores_df = scores_df.append({'# features':'all',\n",
    "               'Mean Accuracy':np.mean(cv_scores),\n",
    "               'Std':np.std(cv_scores)}, ignore_index=True)"
   ]
  },
  {
   "cell_type": "code",
   "execution_count": 13,
   "metadata": {
    "ExecuteTime": {
     "end_time": "2020-12-21T08:59:02.415877Z",
     "start_time": "2020-12-21T08:59:02.327659Z"
    }
   },
   "outputs": [
    {
     "data": {
      "text/html": [
       "<div>\n",
       "<style scoped>\n",
       "    .dataframe tbody tr th:only-of-type {\n",
       "        vertical-align: middle;\n",
       "    }\n",
       "\n",
       "    .dataframe tbody tr th {\n",
       "        vertical-align: top;\n",
       "    }\n",
       "\n",
       "    .dataframe thead th {\n",
       "        text-align: right;\n",
       "    }\n",
       "</style>\n",
       "<table border=\"1\" class=\"dataframe\">\n",
       "  <thead>\n",
       "    <tr style=\"text-align: right;\">\n",
       "      <th></th>\n",
       "      <th># features</th>\n",
       "      <th>Mean Accuracy</th>\n",
       "      <th>Std</th>\n",
       "    </tr>\n",
       "  </thead>\n",
       "  <tbody>\n",
       "    <tr>\n",
       "      <th>0</th>\n",
       "      <td>all</td>\n",
       "      <td>0.821379</td>\n",
       "      <td>0.052654</td>\n",
       "    </tr>\n",
       "  </tbody>\n",
       "</table>\n",
       "</div>"
      ],
      "text/plain": [
       "  # features  Mean Accuracy       Std\n",
       "0        all       0.821379  0.052654"
      ]
     },
     "execution_count": 13,
     "metadata": {},
     "output_type": "execute_result"
    }
   ],
   "source": [
    "scores_df"
   ]
  },
  {
   "cell_type": "markdown",
   "metadata": {},
   "source": [
    "### Lasso"
   ]
  },
  {
   "cell_type": "code",
   "execution_count": 14,
   "metadata": {
    "ExecuteTime": {
     "end_time": "2020-12-21T08:59:02.519762Z",
     "start_time": "2020-12-21T08:59:02.418694Z"
    }
   },
   "outputs": [
    {
     "data": {
      "text/plain": [
       "SelectFromModel(estimator=LogisticRegression(C=1, penalty='l1',\n",
       "                                             solver='liblinear'))"
      ]
     },
     "execution_count": 14,
     "metadata": {},
     "output_type": "execute_result"
    }
   ],
   "source": [
    "sel = SelectFromModel(LogisticRegression(C=1, penalty='l1', solver='liblinear'))\n",
    "sel.fit(X_train, np.ravel(Y_train))"
   ]
  },
  {
   "cell_type": "code",
   "execution_count": 15,
   "metadata": {
    "ExecuteTime": {
     "end_time": "2020-12-21T08:59:02.613271Z",
     "start_time": "2020-12-21T08:59:02.522369Z"
    }
   },
   "outputs": [
    {
     "name": "stdout",
     "output_type": "stream",
     "text": [
      "Selected features :\n",
      "- hours_with_views\n",
      "- avg_views_per_hour\n",
      "- tot_participations\n",
      "- days_with_participations\n"
     ]
    }
   ],
   "source": [
    "print(\"Selected features :\")\n",
    "_ = [print(f\"- {c}\") for c in x.loc[:, sel.get_support()].columns]"
   ]
  },
  {
   "cell_type": "code",
   "execution_count": 16,
   "metadata": {
    "ExecuteTime": {
     "end_time": "2020-12-21T08:59:02.710207Z",
     "start_time": "2020-12-21T08:59:02.615886Z"
    }
   },
   "outputs": [
    {
     "name": "stdout",
     "output_type": "stream",
     "text": [
      "total features: 17\n",
      "selected features: 4\n",
      "features with coefficients shrank to zero: 13\n"
     ]
    }
   ],
   "source": [
    "X_train_df = pd.DataFrame(X_train)\n",
    "selected_features = X_train_df.columns[(sel.get_support())]\n",
    "print(f'total features: {(X_train_df.shape[1])}')\n",
    "print(f'selected features: {len(selected_features)}')\n",
    "print(f'features with coefficients shrank to zero: {np.sum(sel.estimator_.coef_ == 0)}')"
   ]
  },
  {
   "cell_type": "code",
   "execution_count": 17,
   "metadata": {
    "ExecuteTime": {
     "end_time": "2020-12-21T08:59:02.804506Z",
     "start_time": "2020-12-21T08:59:02.713255Z"
    }
   },
   "outputs": [
    {
     "data": {
      "text/plain": [
       "Int64Index([0, 1, 2, 3, 4, 6, 8, 9, 10, 11, 13, 14, 15], dtype='int64')"
      ]
     },
     "execution_count": 17,
     "metadata": {},
     "output_type": "execute_result"
    }
   ],
   "source": [
    "removed_features = X_train_df.columns[(sel.estimator_.coef_ == 0).ravel().tolist()]\n",
    "removed_features"
   ]
  },
  {
   "cell_type": "code",
   "execution_count": 18,
   "metadata": {
    "ExecuteTime": {
     "end_time": "2020-12-21T08:59:02.904443Z",
     "start_time": "2020-12-21T08:59:02.809147Z"
    }
   },
   "outputs": [],
   "source": [
    "X_train_lasso_selected = sel.transform(X_train_df)\n",
    "X_test_lasso_selected = sel.transform(X_test)"
   ]
  },
  {
   "cell_type": "code",
   "execution_count": 19,
   "metadata": {
    "ExecuteTime": {
     "end_time": "2020-12-21T08:59:16.946535Z",
     "start_time": "2020-12-21T08:59:02.909976Z"
    }
   },
   "outputs": [
    {
     "name": "stdout",
     "output_type": "stream",
     "text": [
      "Naive Random Forest all features\n",
      "Mean Accuracy: 0.8317241379310346 \n",
      "Standard Deviation : 0.06587560792419064\n"
     ]
    }
   ],
   "source": [
    "# Create a naive random forest classifier\n",
    "#clf = RandomForestClassifier(n_estimators=1000, random_state=0, n_jobs=-1)\n",
    "# Train the classifier\n",
    "cv_scores = cross_val_score(clf, X_train_lasso_selected, np.ravel(Y_train), cv=10)\n",
    "\n",
    "print(\"Naive Random Forest all features\")\n",
    "print(f\"Mean Accuracy: {np.mean(cv_scores)} \\nStandard Deviation : {np.std(cv_scores)}\")"
   ]
  },
  {
   "cell_type": "code",
   "execution_count": 20,
   "metadata": {
    "ExecuteTime": {
     "end_time": "2020-12-21T08:59:16.963012Z",
     "start_time": "2020-12-21T08:59:16.949303Z"
    },
    "scrolled": true
   },
   "outputs": [
    {
     "data": {
      "text/html": [
       "<div>\n",
       "<style scoped>\n",
       "    .dataframe tbody tr th:only-of-type {\n",
       "        vertical-align: middle;\n",
       "    }\n",
       "\n",
       "    .dataframe tbody tr th {\n",
       "        vertical-align: top;\n",
       "    }\n",
       "\n",
       "    .dataframe thead th {\n",
       "        text-align: right;\n",
       "    }\n",
       "</style>\n",
       "<table border=\"1\" class=\"dataframe\">\n",
       "  <thead>\n",
       "    <tr style=\"text-align: right;\">\n",
       "      <th></th>\n",
       "      <th># features</th>\n",
       "      <th>Mean Accuracy</th>\n",
       "      <th>Std</th>\n",
       "    </tr>\n",
       "  </thead>\n",
       "  <tbody>\n",
       "    <tr>\n",
       "      <th>0</th>\n",
       "      <td>all</td>\n",
       "      <td>0.821379</td>\n",
       "      <td>0.052654</td>\n",
       "    </tr>\n",
       "    <tr>\n",
       "      <th>1</th>\n",
       "      <td>lasso</td>\n",
       "      <td>0.831724</td>\n",
       "      <td>0.065876</td>\n",
       "    </tr>\n",
       "  </tbody>\n",
       "</table>\n",
       "</div>"
      ],
      "text/plain": [
       "  # features  Mean Accuracy       Std\n",
       "0        all       0.821379  0.052654\n",
       "1      lasso       0.831724  0.065876"
      ]
     },
     "execution_count": 20,
     "metadata": {},
     "output_type": "execute_result"
    }
   ],
   "source": [
    "scores_df = scores_df.append({'# features':'lasso',\n",
    "               'Mean Accuracy':np.mean(cv_scores),\n",
    "               'Std':np.std(cv_scores)}, ignore_index=True)\n",
    "scores_df.head()"
   ]
  },
  {
   "cell_type": "markdown",
   "metadata": {},
   "source": [
    "### RFE"
   ]
  },
  {
   "cell_type": "code",
   "execution_count": 21,
   "metadata": {
    "ExecuteTime": {
     "end_time": "2020-12-21T09:09:38.710780Z",
     "start_time": "2020-12-21T08:59:16.965787Z"
    }
   },
   "outputs": [
    {
     "data": {
      "text/plain": [
       "RFECV(cv=StratifiedKFold(n_splits=10, random_state=None, shuffle=False),\n",
       "      estimator=RandomForestClassifier(n_estimators=1000, n_jobs=-1,\n",
       "                                       random_state=0),\n",
       "      scoring='accuracy')"
      ]
     },
     "execution_count": 21,
     "metadata": {},
     "output_type": "execute_result"
    }
   ],
   "source": [
    "#clf = RandomForestClassifier(n_estimators=1000, random_state=0, n_jobs=-1)\n",
    "rfecv = RFECV(estimator=clf, step=1, cv=StratifiedKFold(10), scoring='accuracy')\n",
    "rfecv.fit(X_train, np.ravel(Y_train))"
   ]
  },
  {
   "cell_type": "code",
   "execution_count": 22,
   "metadata": {
    "ExecuteTime": {
     "end_time": "2020-12-21T09:09:38.723428Z",
     "start_time": "2020-12-21T09:09:38.719199Z"
    }
   },
   "outputs": [
    {
     "name": "stdout",
     "output_type": "stream",
     "text": [
      "Optimal number of features: 8\n"
     ]
    }
   ],
   "source": [
    "print(f'Optimal number of features: {rfecv.n_features_}')"
   ]
  },
  {
   "cell_type": "code",
   "execution_count": 23,
   "metadata": {
    "ExecuteTime": {
     "end_time": "2020-12-21T09:09:38.809824Z",
     "start_time": "2020-12-21T09:09:38.726917Z"
    }
   },
   "outputs": [
    {
     "name": "stdout",
     "output_type": "stream",
     "text": [
      "Selected features :\n",
      "- tot_page_views\n",
      "- days_with_views\n",
      "- hours_with_views\n",
      "- avg_views_per_hour\n",
      "- avg_hours_with_views_per_day\n",
      "- tot_participations\n",
      "- average_daily_participations\n",
      "- days_with_participations\n"
     ]
    }
   ],
   "source": [
    "print(\"Selected features :\")\n",
    "_ = [print(f\"- {c}\") for c in x.loc[:, rfecv.support_].columns]"
   ]
  },
  {
   "cell_type": "code",
   "execution_count": 24,
   "metadata": {
    "ExecuteTime": {
     "end_time": "2020-12-21T09:09:39.103751Z",
     "start_time": "2020-12-21T09:09:38.811808Z"
    }
   },
   "outputs": [
    {
     "data": {
      "image/png": "[encoded data removed]",
      "text/plain": [
       "<Figure size 1152x648 with 1 Axes>"
      ]
     },
     "metadata": {
      "needs_background": "light"
     },
     "output_type": "display_data"
    }
   ],
   "source": [
    "plt.figure(figsize=(16, 9))\n",
    "plt.title('Recursive Feature Elimination with Cross-Validation', fontsize=20)\n",
    "plt.xlabel('Number of features selected', fontsize=14, labelpad=20)\n",
    "plt.ylabel('% Correct Classification', fontsize=14, labelpad=20)\n",
    "plt.plot(range(1, len(rfecv.grid_scores_) + 1), rfecv.grid_scores_, color='#303F9F', linewidth=3)\n",
    "\n",
    "plt.show()"
   ]
  },
  {
   "cell_type": "code",
   "execution_count": 25,
   "metadata": {
    "ExecuteTime": {
     "end_time": "2020-12-21T09:09:39.113362Z",
     "start_time": "2020-12-21T09:09:39.106463Z"
    }
   },
   "outputs": [],
   "source": [
    "X_train_rfe_selected = rfecv.transform(X_train_df)\n",
    "X_test_rfe_selected = rfecv.transform(X_test)"
   ]
  },
  {
   "cell_type": "code",
   "execution_count": 26,
   "metadata": {
    "ExecuteTime": {
     "end_time": "2020-12-21T09:09:39.717123Z",
     "start_time": "2020-12-21T09:09:39.115814Z"
    }
   },
   "outputs": [
    {
     "data": {
      "image/png": "[encoded data removed]",
      "text/plain": [
       "<Figure size 1152x1008 with 1 Axes>"
      ]
     },
     "metadata": {
      "needs_background": "light"
     },
     "output_type": "display_data"
    }
   ],
   "source": [
    "dset = pd.DataFrame()\n",
    "dset['attr'] = x.loc[:, rfecv.support_].columns\n",
    "dset['importance'] = rfecv.estimator_.feature_importances_\n",
    "\n",
    "dset = dset.sort_values(by='importance', ascending=False)\n",
    "\n",
    "\n",
    "plt.figure(figsize=(16, 14))\n",
    "plt.barh(y=dset['attr'], width=dset['importance'], color='#1976D2')\n",
    "plt.title('RFECV - Feature Importances', fontsize=20, pad=20)\n",
    "plt.xlabel('Importance', fontsize=14, labelpad=20)\n",
    "plt.show()"
   ]
  },
  {
   "cell_type": "code",
   "execution_count": 27,
   "metadata": {
    "ExecuteTime": {
     "end_time": "2020-12-21T09:09:54.752141Z",
     "start_time": "2020-12-21T09:09:39.718998Z"
    }
   },
   "outputs": [
    {
     "name": "stdout",
     "output_type": "stream",
     "text": [
      "Naive Random Forest all features\n",
      "Mean Accuracy: 0.8420689655172413 \n",
      "Standard Deviation : 0.07222965092845275\n"
     ]
    }
   ],
   "source": [
    "# Create a naive random forest classifier\n",
    "#clf = RandomForestClassifier(n_estimators=1000, random_state=0, n_jobs=-1)\n",
    "# Train the classifier\n",
    "cv_scores = cross_val_score(clf, X_train_rfe_selected, np.ravel(Y_train), cv=10)\n",
    "\n",
    "print(\"Naive Random Forest all features\")\n",
    "print(f\"Mean Accuracy: {np.mean(cv_scores)} \\nStandard Deviation : {np.std(cv_scores)}\")"
   ]
  },
  {
   "cell_type": "code",
   "execution_count": 28,
   "metadata": {
    "ExecuteTime": {
     "end_time": "2020-12-21T09:09:54.771441Z",
     "start_time": "2020-12-21T09:09:54.755078Z"
    }
   },
   "outputs": [
    {
     "data": {
      "text/html": [
       "<div>\n",
       "<style scoped>\n",
       "    .dataframe tbody tr th:only-of-type {\n",
       "        vertical-align: middle;\n",
       "    }\n",
       "\n",
       "    .dataframe tbody tr th {\n",
       "        vertical-align: top;\n",
       "    }\n",
       "\n",
       "    .dataframe thead th {\n",
       "        text-align: right;\n",
       "    }\n",
       "</style>\n",
       "<table border=\"1\" class=\"dataframe\">\n",
       "  <thead>\n",
       "    <tr style=\"text-align: right;\">\n",
       "      <th></th>\n",
       "      <th># features</th>\n",
       "      <th>Mean Accuracy</th>\n",
       "      <th>Std</th>\n",
       "    </tr>\n",
       "  </thead>\n",
       "  <tbody>\n",
       "    <tr>\n",
       "      <th>0</th>\n",
       "      <td>all</td>\n",
       "      <td>0.821379</td>\n",
       "      <td>0.052654</td>\n",
       "    </tr>\n",
       "    <tr>\n",
       "      <th>1</th>\n",
       "      <td>lasso</td>\n",
       "      <td>0.831724</td>\n",
       "      <td>0.065876</td>\n",
       "    </tr>\n",
       "    <tr>\n",
       "      <th>2</th>\n",
       "      <td>rfe</td>\n",
       "      <td>0.842069</td>\n",
       "      <td>0.072230</td>\n",
       "    </tr>\n",
       "  </tbody>\n",
       "</table>\n",
       "</div>"
      ],
      "text/plain": [
       "  # features  Mean Accuracy       Std\n",
       "0        all       0.821379  0.052654\n",
       "1      lasso       0.831724  0.065876\n",
       "2        rfe       0.842069  0.072230"
      ]
     },
     "execution_count": 28,
     "metadata": {},
     "output_type": "execute_result"
    }
   ],
   "source": [
    "scores_df = scores_df.append({'# features':'rfe',\n",
    "               'Mean Accuracy':np.mean(cv_scores),\n",
    "               'Std':np.std(cv_scores)}, ignore_index=True)\n",
    "scores_df.head()"
   ]
  },
  {
   "cell_type": "code",
   "execution_count": 29,
   "metadata": {
    "ExecuteTime": {
     "end_time": "2020-12-21T09:09:54.984534Z",
     "start_time": "2020-12-21T09:09:54.774937Z"
    }
   },
   "outputs": [
    {
     "data": {
      "image/png": "[encoded data removed]",
      "text/plain": [
       "<Figure size 432x288 with 1 Axes>"
      ]
     },
     "metadata": {
      "needs_background": "light"
     },
     "output_type": "display_data"
    }
   ],
   "source": [
    "plt.errorbar(scores_df['# features'], scores_df['Mean Accuracy'], yerr=scores_df['Std'], fmt=\"o\")\n",
    "plt.title('Feature Selection Strategy Comparison')\n",
    "plt.show()"
   ]
  },
  {
   "cell_type": "markdown",
   "metadata": {},
   "source": [
    "## Model"
   ]
  },
  {
   "cell_type": "markdown",
   "metadata": {},
   "source": [
    "## GridSearch CV: XGB and RF compared"
   ]
  },
  {
   "cell_type": "code",
   "execution_count": 30,
   "metadata": {
    "ExecuteTime": {
     "end_time": "2020-12-21T09:09:55.189211Z",
     "start_time": "2020-12-21T09:09:54.986878Z"
    }
   },
   "outputs": [
    {
     "ename": "ModuleNotFoundError",
     "evalue": "No module named 'xgboost'",
     "output_type": "error",
     "traceback": [
      "\u001b[0;31m---------------------------------------------------------------------------\u001b[0m",
      "\u001b[0;31mModuleNotFoundError\u001b[0m                       Traceback (most recent call last)",
      "\u001b[0;32m<ipython-input-30-763158348039>\u001b[0m in \u001b[0;36m<module>\u001b[0;34m\u001b[0m\n\u001b[0;32m----> 1\u001b[0;31m \u001b[0;32mimport\u001b[0m \u001b[0mxgboost\u001b[0m \u001b[0;32mas\u001b[0m \u001b[0mxgb\u001b[0m\u001b[0;34m\u001b[0m\u001b[0;34m\u001b[0m\u001b[0m\n\u001b[0m",
      "\u001b[0;31mModuleNotFoundError\u001b[0m: No module named 'xgboost'"
     ]
    }
   ],
   "source": [
    "import xgboost as xgb "
   ]
  },
  {
   "cell_type": "code",
   "execution_count": null,
   "metadata": {
    "ExecuteTime": {
     "end_time": "2020-12-21T09:09:55.210726Z",
     "start_time": "2020-12-21T08:58:46.109Z"
    },
    "code_folding": []
   },
   "outputs": [],
   "source": [
    "#The data is stored in a DMatrix object \n",
    "#label is used to define our outcome variable\n",
    "dtrain=xgb.DMatrix(x_train,label=y_train)\n",
    "dtest=xgb.DMatrix(x_test)"
   ]
  },
  {
   "cell_type": "code",
   "execution_count": null,
   "metadata": {
    "ExecuteTime": {
     "end_time": "2020-12-21T09:09:55.212150Z",
     "start_time": "2020-12-21T08:58:46.110Z"
    }
   },
   "outputs": [],
   "source": [
    "x.loc[:, rfecv.support_]#setting parameters for xgboost\n",
    "parameters={'max_depth':7, 'eta':1, 'silent':1,'objective':'binary:logistic','eval_metric':'auc','learning_rate':.05}"
   ]
  },
  {
   "cell_type": "code",
   "execution_count": null,
   "metadata": {
    "ExecuteTime": {
     "end_time": "2020-12-21T09:09:55.213692Z",
     "start_time": "2020-12-21T08:58:46.111Z"
    }
   },
   "outputs": [],
   "source": [
    "#training our model \n",
    "num_round=50\n",
    "from datetime import datetime \n",
    "start = datetime.now() \n",
    "xg=xgb.train(parameters,dtrain,num_round) \n",
    "stop = datetime.now()"
   ]
  },
  {
   "cell_type": "code",
   "execution_count": null,
   "metadata": {
    "ExecuteTime": {
     "end_time": "2020-12-21T09:09:55.215272Z",
     "start_time": "2020-12-21T08:58:46.112Z"
    }
   },
   "outputs": [],
   "source": [
    "#Execution time of the model \n",
    "execution_time_xgb = stop-start \n",
    "execution_time_xgb"
   ]
  },
  {
   "cell_type": "code",
   "execution_count": null,
   "metadata": {
    "ExecuteTime": {
     "end_time": "2020-12-21T09:09:55.216771Z",
     "start_time": "2020-12-21T08:58:46.113Z"
    }
   },
   "outputs": [],
   "source": [
    "#datetime.timedelta( , , ) representation => (days , seconds , microseconds) \n",
    "#now predicting our model on test set \n",
    "ypred=xg.predict(dtest) \n",
    "ypred"
   ]
  },
  {
   "cell_type": "code",
   "execution_count": null,
   "metadata": {
    "ExecuteTime": {
     "end_time": "2020-12-21T09:09:55.218244Z",
     "start_time": "2020-12-21T08:58:46.114Z"
    }
   },
   "outputs": [],
   "source": [
    "#Converting probabilities into 1 or 0  \n",
    "for i in range(0,9769): \n",
    "    if ypred[i]>=.5:       # setting threshold to .5 \n",
    "       ypred[i]=1 \n",
    "    else: \n",
    "       ypred[i]=0  "
   ]
  },
  {
   "cell_type": "code",
   "execution_count": null,
   "metadata": {
    "ExecuteTime": {
     "end_time": "2020-12-21T09:09:55.219742Z",
     "start_time": "2020-12-21T08:58:46.115Z"
    }
   },
   "outputs": [],
   "source": [
    "#calculating accuracy of our model \n",
    "from sklearn.metrics import accuracy_score \n",
    "accuracy_xgb = accuracy_score(y_test,ypred) \n",
    "accuracy_xgb\n"
   ]
  },
  {
   "cell_type": "code",
   "execution_count": null,
   "metadata": {
    "ExecuteTime": {
     "end_time": "2020-12-21T09:09:55.221158Z",
     "start_time": "2020-12-21T08:58:46.118Z"
    }
   },
   "outputs": [],
   "source": [
    "# fine tune XGB and RF"
   ]
  },
  {
   "cell_type": "code",
   "execution_count": null,
   "metadata": {
    "ExecuteTime": {
     "end_time": "2020-12-21T09:09:55.222731Z",
     "start_time": "2020-12-21T08:58:46.119Z"
    }
   },
   "outputs": [],
   "source": [
    "#look at confusion matrix\n",
    "# minimize erros on failure\n",
    "# 70% errors basically data imblance... so maybe balance data?"
   ]
  },
  {
   "cell_type": "code",
   "execution_count": null,
   "metadata": {},
   "outputs": [],
   "source": []
  }
 ],
 "metadata": {
  "kernelspec": {
   "display_name": "Python [conda env:student-fail-prediction]",
   "language": "python",
   "name": "conda-env-student-fail-prediction-py"
  },
  "language_info": {
   "codemirror_mode": {
    "name": "ipython",
    "version": 3
   },
   "file_extension": ".py",
   "mimetype": "text/x-python",
   "name": "python",
   "nbconvert_exporter": "python",
   "pygments_lexer": "ipython3",
   "version": "3.8.6"
  },
  "varInspector": {
   "cols": {
    "lenName": 16,
    "lenType": 16,
    "lenVar": 40
   },
   "kernels_config": {
    "python": {
     "delete_cmd_postfix": "",
     "delete_cmd_prefix": "del ",
     "library": "var_list.py",
     "varRefreshCmd": "print(var_dic_list())"
    },
    "r": {
     "delete_cmd_postfix": ") ",
     "delete_cmd_prefix": "rm(",
     "library": "var_list.r",
     "varRefreshCmd": "cat(var_dic_list()) "
    }
   },
   "types_to_exclude": [
    "module",
    "function",
    "builtin_function_or_method",
    "instance",
    "_Feature"
   ],
   "window_display": false
  }
 },
 "nbformat": 4,
 "nbformat_minor": 4
}
